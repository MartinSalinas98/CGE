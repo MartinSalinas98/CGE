{
 "cells": [
  {
   "cell_type": "code",
   "execution_count": 1,
   "metadata": {},
   "outputs": [],
   "source": [
    "# Importing libraries\n",
    "import pyspark\n",
    "from pyspark.sql.types import StructType, StructField, StringType, IntegerType, FloatType\n",
    "from pyspark.sql.functions import mean, stddev, min, max, collect_list, flatten, concat, col"
   ]
  },
  {
   "cell_type": "code",
   "execution_count": 2,
   "metadata": {},
   "outputs": [
    {
     "name": "stdout",
     "output_type": "stream",
     "text": [
      "22/12/22 18:01:02 WARN Utils: Your hostname, martin resolves to a loopback address: 127.0.1.1; using 192.168.0.24 instead (on interface wlp1s0)\n",
      "22/12/22 18:01:02 WARN Utils: Set SPARK_LOCAL_IP if you need to bind to another address\n"
     ]
    },
    {
     "name": "stderr",
     "output_type": "stream",
     "text": [
      "Setting default log level to \"WARN\".\n",
      "To adjust logging level use sc.setLogLevel(newLevel). For SparkR, use setLogLevel(newLevel).\n"
     ]
    },
    {
     "name": "stdout",
     "output_type": "stream",
     "text": [
      "22/12/22 18:01:04 WARN NativeCodeLoader: Unable to load native-hadoop library for your platform... using builtin-java classes where applicable\n"
     ]
    }
   ],
   "source": [
    "# Creating spark enviroment\n",
    "spark = pyspark.sql.SparkSession.builder.appName(\"CGE P6\").getOrCreate()"
   ]
  },
  {
   "attachments": {},
   "cell_type": "markdown",
   "metadata": {},
   "source": [
    "# Tarea 1\n",
    "En esta tarea se va a realizar el mismo proceso que en la práctica anterior, pero con Dataframes en lugar de RDDs. Esto es, importar los datasets en los correspondientes Dataframes, agruparlos por la terna 'User', 'Model', 'gt', y calcular una serie de operaciones sobre las columnas 'x', 'y', y 'z', para posteriormente unir los Dataframes de un mismo tipo de dispositivo, y finalmente unir todos los Dataframes en uno final."
   ]
  },
  {
   "cell_type": "code",
   "execution_count": 3,
   "metadata": {},
   "outputs": [],
   "source": [
    "# Dataset common path\n",
    "common_path = \"./\"                      # Default dataset path\n",
    "common_path = \"../datasets/small_data/\" # Custom dataset path\n",
    "\n",
    "# Dataset names\n",
    "phones_acc_path = common_path + \"Phones_accelerometer.csv\"\n",
    "phones_gyr_path = common_path + \"Phones_gyroscope.csv\"\n",
    "watch_acc_path = common_path + \"Watch_accelerometer.csv\"\n",
    "watch_gry_path = common_path + \"Watch_gyroscope.csv\"\n",
    "\n",
    "# Defining dataset schema\n",
    "dataset_schema = StructType([\n",
    "    StructField(\"Index\", IntegerType(), True),\n",
    "    StructField(\"Arrival_Time\", StringType(), True),\n",
    "    StructField(\"Creation_Time\", StringType(), True),\n",
    "    StructField(\"x\", FloatType(), True),\n",
    "    StructField(\"y\", FloatType(), True),\n",
    "    StructField(\"z\", FloatType(), True),\n",
    "    StructField(\"User\", StringType(), True),\n",
    "    StructField(\"Model\", StringType(), True),\n",
    "    StructField(\"Device\", StringType(), True),\n",
    "    StructField(\"gt\", StringType(), True)\n",
    "])"
   ]
  },
  {
   "cell_type": "code",
   "execution_count": 4,
   "metadata": {},
   "outputs": [],
   "source": [
    "# Importing each dataset into a Dataframe\n",
    "df_acc_phones = spark.read.format(\"csv\").schema(dataset_schema).load(phones_acc_path)\n",
    "df_gyr_phones = spark.read.format(\"csv\").schema(dataset_schema).load(phones_gyr_path)\n",
    "df_acc_watches = spark.read.format(\"csv\").schema(dataset_schema).load(watch_acc_path)\n",
    "df_gyr_watches = spark.read.format(\"csv\").schema(dataset_schema).load(watch_gry_path)"
   ]
  },
  {
   "cell_type": "code",
   "execution_count": 5,
   "metadata": {},
   "outputs": [
    {
     "name": "stdout",
     "output_type": "stream",
     "text": [
      "root\n",
      " |-- Index: integer (nullable = true)\n",
      " |-- Arrival_Time: string (nullable = true)\n",
      " |-- Creation_Time: string (nullable = true)\n",
      " |-- x: float (nullable = true)\n",
      " |-- y: float (nullable = true)\n",
      " |-- z: float (nullable = true)\n",
      " |-- User: string (nullable = true)\n",
      " |-- Model: string (nullable = true)\n",
      " |-- Device: string (nullable = true)\n",
      " |-- gt: string (nullable = true)\n",
      "\n"
     ]
    },
    {
     "name": "stderr",
     "output_type": "stream",
     "text": [
      "[Stage 0:>                                                          (0 + 1) / 1]\r"
     ]
    },
    {
     "name": "stdout",
     "output_type": "stream",
     "text": [
      "+-----+-------------+-------------------+----------+----------+---------+----+------+--------+-----+\n",
      "|Index| Arrival_Time|      Creation_Time|         x|         y|        z|User| Model|  Device|   gt|\n",
      "+-----+-------------+-------------------+----------+----------+---------+----+------+--------+-----+\n",
      "|    0|1424696633908|1424696631913248572| -5.958191| 0.6880646| 8.135345|   a|nexus4|nexus4_1|stand|\n",
      "|    1|1424696633909|1424696631918283972|  -5.95224| 0.6702118| 8.136536|   a|nexus4|nexus4_1|stand|\n",
      "|    2|1424696633918|1424696631923288855|-5.9950867| 0.6535492| 8.204376|   a|nexus4|nexus4_1|stand|\n",
      "|    3|1424696633919|1424696631928385290|-5.9427185| 0.6761627| 8.128204|   a|nexus4|nexus4_1|stand|\n",
      "|    4|1424696633929|1424696631933420691| -5.991516|0.64164734| 8.135345|   a|nexus4|nexus4_1|stand|\n",
      "|    5|1424696633929|1424696631938456091| -5.965332| 0.6297455| 8.128204|   a|nexus4|nexus4_1|stand|\n",
      "|    6|1424696633938|1424696631943522009| -5.991516| 0.6356964|  8.16272|   a|nexus4|nexus4_1|stand|\n",
      "|    7|1424696633939|1424696631948496374| -5.915344|0.63093567| 8.105591|   a|nexus4|nexus4_1|stand|\n",
      "|    8|1424696633951|1424696631953592810| -5.984375| 0.6940155| 8.067505|   a|nexus4|nexus4_1|stand|\n",
      "|    9|1424696633952|1424696631960428747| -5.937958|0.71543884| 8.090118|   a|nexus4|nexus4_1|stand|\n",
      "|   10|1424696633959|1424696631963663611| -5.902252| 0.6678314| 8.069885|   a|nexus4|nexus4_1|stand|\n",
      "|   11|1424696633960|1424696631968912634|-5.9498596|0.68092346| 8.119873|   a|nexus4|nexus4_1|stand|\n",
      "|   12|1424696633966|1424696631973734412|-5.9796143| 0.7416229|8.0841675|   a|nexus4|nexus4_1|stand|\n",
      "|   13|1424696633972|1424696631978769812|-5.9617615|0.71424866| 8.155579|   a|nexus4|nexus4_1|stand|\n",
      "|   14|1424696633978|1424696631983805212|  -5.95343| 0.7130585| 8.153198|   a|nexus4|nexus4_1|stand|\n",
      "|   15|1424696633981|1424696631988840613|-5.8665466| 0.7344818|  8.10083|   a|nexus4|nexus4_1|stand|\n",
      "|   16|1424696633989|1424696631993876013| -5.901062| 0.7582855| 8.081787|   a|nexus4|nexus4_1|stand|\n",
      "|   17|1424696633991|1424696631999064001|-5.8713074| 0.7190094| 8.192474|   a|nexus4|nexus4_1|stand|\n",
      "|   18|1424696634003|1424696632003946814| -5.932007|0.67259216| 8.185333|   a|nexus4|nexus4_1|stand|\n",
      "|   19|1424696634004|1424696632010447058| -5.895111| 0.6797333| 8.132965|   a|nexus4|nexus4_1|stand|\n",
      "+-----+-------------+-------------------+----------+----------+---------+----+------+--------+-----+\n",
      "only showing top 20 rows\n",
      "\n"
     ]
    },
    {
     "name": "stderr",
     "output_type": "stream",
     "text": [
      "                                                                                \r"
     ]
    }
   ],
   "source": [
    "# Print schema and Dataframe for one of them as a sample\n",
    "df_acc_phones.printSchema()\n",
    "df_acc_phones.show()"
   ]
  },
  {
   "cell_type": "code",
   "execution_count": 6,
   "metadata": {},
   "outputs": [],
   "source": [
    "# Defining function to group Dataframe by User, Model, and class (gt) and performing required aggregates\n",
    "def computeStats(df):\n",
    "    df_grouped = df.groupBy(\"User\", \"Model\", \"gt\").agg(\n",
    "        mean(\"x\").alias(\"mean_x\"),\n",
    "        mean(\"y\").alias(\"mean_y\"),\n",
    "        mean(\"z\").alias(\"mean_z\"),\n",
    "        stddev(\"x\").alias(\"stddev_x\"),\n",
    "        stddev(\"y\").alias(\"stddev_y\"),\n",
    "        stddev(\"z\").alias(\"stddev_z\"),\n",
    "        max(\"x\").alias(\"max_x\"),\n",
    "        max(\"y\").alias(\"max_y\"),\n",
    "        min(\"z\").alias(\"min_z\"),\n",
    "        min(\"x\").alias(\"min_x\"),\n",
    "        min(\"y\").alias(\"min_y\"),\n",
    "        max(\"z\").alias(\"max_z\")\n",
    "    )\n",
    "\n",
    "    return df_grouped"
   ]
  },
  {
   "cell_type": "code",
   "execution_count": 7,
   "metadata": {},
   "outputs": [],
   "source": [
    "# Grouping Dataframes and calculating stats\n",
    "df_acc_phones = computeStats(df_acc_phones)\n",
    "df_gyr_phones = computeStats(df_gyr_phones)\n",
    "df_acc_watches = computeStats(df_acc_watches)\n",
    "df_gyr_watches = computeStats(df_gyr_watches)"
   ]
  },
  {
   "cell_type": "code",
   "execution_count": 8,
   "metadata": {},
   "outputs": [
    {
     "name": "stderr",
     "output_type": "stream",
     "text": [
      "[Stage 1:>                                                          (0 + 1) / 1]\r"
     ]
    },
    {
     "name": "stdout",
     "output_type": "stream",
     "text": [
      "+----+------+-----+------------------+------------------+----------------+-------------------+------------------+-------------------+----------+---------+--------+----------+-----------+--------+\n",
      "|User| Model|   gt|            mean_x|            mean_y|          mean_z|           stddev_x|          stddev_y|           stddev_z|     max_x|    max_y|   min_z|     min_x|      min_y|   max_z|\n",
      "+----+------+-----+------------------+------------------+----------------+-------------------+------------------+-------------------+----------+---------+--------+----------+-----------+--------+\n",
      "|   a|nexus4|stand|-6.026499951171875|0.9334959503173829|8.01364601135254|0.18456097451689402|0.2404461811789261|0.17600866155107173|-5.5202026|1.9472809|7.149872|-7.0448303|-0.84251404|8.638794|\n",
      "+----+------+-----+------------------+------------------+----------------+-------------------+------------------+-------------------+----------+---------+--------+----------+-----------+--------+\n",
      "\n"
     ]
    },
    {
     "name": "stderr",
     "output_type": "stream",
     "text": [
      "                                                                                \r"
     ]
    }
   ],
   "source": [
    "# Showing sample grouped Dataframe with stats\n",
    "df_acc_phones.show()"
   ]
  },
  {
   "cell_type": "code",
   "execution_count": 9,
   "metadata": {},
   "outputs": [],
   "source": [
    "# Defining function to group Dataframe by User, Model, and class (gt) and performing required aggregates\n",
    "def regroupJoinedDataframes(df):\n",
    "    df_grouped = df.groupBy(\"User\", \"Model\", \"gt\").agg(\n",
    "        collect_list('mean_x').alias('mean_x_list'),\n",
    "        collect_list('mean_y').alias('mean_y_list'),\n",
    "        collect_list('mean_z').alias('mean_z_list'),\n",
    "        collect_list('stddev_x').alias('stddev_x_list'),\n",
    "        collect_list('stddev_y').alias('stddev_y_list'),\n",
    "        collect_list('stddev_z').alias('stddev_z_list'),\n",
    "        collect_list('max_x').alias('max_x_list'),\n",
    "        collect_list('max_y').alias('max_y_list'),\n",
    "        collect_list('max_z').alias('max_z_list'),\n",
    "        collect_list('min_x').alias('min_x_list'),\n",
    "        collect_list('min_y').alias('min_y_list'),\n",
    "        collect_list('min_z').alias('min_z_list')\n",
    "    )\n",
    "\n",
    "    return df_grouped"
   ]
  },
  {
   "cell_type": "code",
   "execution_count": 10,
   "metadata": {},
   "outputs": [
    {
     "name": "stderr",
     "output_type": "stream",
     "text": [
      "[Stage 5:>                                                          (0 + 1) / 1]\r"
     ]
    },
    {
     "name": "stdout",
     "output_type": "stream",
     "text": [
      "+----+------+-----+--------------------+--------------------+--------------------+--------------------+--------------------+--------------------+--------------------+--------------------+--------------------+--------------------+--------------------+--------------------+\n",
      "|User| Model|   gt|         mean_x_list|         mean_y_list|         mean_z_list|       stddev_x_list|       stddev_y_list|       stddev_z_list|          max_x_list|          max_y_list|          max_z_list|          min_x_list|          min_y_list|          min_z_list|\n",
      "+----+------+-----+--------------------+--------------------+--------------------+--------------------+--------------------+--------------------+--------------------+--------------------+--------------------+--------------------+--------------------+--------------------+\n",
      "|   a|nexus4|stand|[-6.0264999511718...|[0.93349595031738...|[8.01364601135254...|[0.18456097451689...|[0.24044618117892...|[0.17600866155107...|[-5.5202026, 0.63...|[1.9472809, 0.349...|[8.638794, 0.4487...|[-7.0448303, -0.1...|[-0.84251404, -0....|[7.149872, -0.600...|\n",
      "+----+------+-----+--------------------+--------------------+--------------------+--------------------+--------------------+--------------------+--------------------+--------------------+--------------------+--------------------+--------------------+--------------------+\n",
      "\n"
     ]
    },
    {
     "name": "stderr",
     "output_type": "stream",
     "text": [
      "                                                                                \r"
     ]
    }
   ],
   "source": [
    "# Joining Dataframes by phones and watches\n",
    "df_phones = regroupJoinedDataframes(df_acc_phones.union(df_gyr_phones))\n",
    "df_watches = regroupJoinedDataframes(df_acc_watches.union(df_gyr_watches))\n",
    "\n",
    "# Showing one joined Dataframe as an example\n",
    "df_phones.show()"
   ]
  },
  {
   "cell_type": "code",
   "execution_count": 11,
   "metadata": {},
   "outputs": [
    {
     "name": "stderr",
     "output_type": "stream",
     "text": [
      "[Stage 16:>                                                         (0 + 1) / 1]\r"
     ]
    },
    {
     "name": "stdout",
     "output_type": "stream",
     "text": [
      "+----+------+-----+--------------------+--------------------+--------------------+--------------------+--------------------+--------------------+--------------------+--------------------+--------------------+--------------------+--------------------+--------------------+\n",
      "|User| Model|   gt|         mean_x_list|         mean_y_list|         mean_z_list|       stddev_x_list|       stddev_y_list|       stddev_z_list|          max_x_list|          max_y_list|          min_z_list|          min_x_list|          min_y_list|          max_z_list|\n",
      "+----+------+-----+--------------------+--------------------+--------------------+--------------------+--------------------+--------------------+--------------------+--------------------+--------------------+--------------------+--------------------+--------------------+\n",
      "|   a|nexus4|stand|[-6.0264999511718...|[0.93349595031738...|[8.01364601135254...|[0.18456097451689...|[0.24044618117892...|[0.17600866155107...|[-5.5202026, 0.63...|[1.9472809, 0.349...|[7.149872, -0.600...|[-7.0448303, -0.1...|[-0.84251404, -0....|[8.638794, 0.4487...|\n",
      "|   a|  gear| null|[-9.2601301115612...|[-3.4726260075735...|[-1.0407208491896...|[0.03113687743883...|[0.05153390544639...|[0.03147594457804...|[-9.173983, 0.056...|[-3.3207579, -0.0...|[-1.1420342, -0.0...|[-9.3583355, -0.0...|[-3.5942953, -0.0...|[-0.9307459, -0.0...|\n",
      "|   a|  gear|stand|[-9.2897532037232...|[-3.1371565253054...|[-1.0662863002461...|[0.41374502394108...|[1.06295825366381...|[0.61738509643570...|[-0.5650316, 0.81...|[-0.5781997, 0.35...|[-2.2625206, -1.2...|[-12.600683, -2.0...|[-11.08276, -0.55...|[1.01574, 1.1475562]|\n",
      "|   a|  gear|  sit|[-7.6045197087351...|[-5.5283410784988...|[2.63832651458445...|[0.18557251043211...|[0.27430079586726...|[0.38572233042815...|[-6.6588736, 0.39...|[-0.83258367, 0.3...|[-3.6709096, -0.2...|[-10.8229885, -0....|[-6.9168487, -0.7...|[3.555988, 0.7760...|\n",
      "+----+------+-----+--------------------+--------------------+--------------------+--------------------+--------------------+--------------------+--------------------+--------------------+--------------------+--------------------+--------------------+--------------------+\n",
      "\n"
     ]
    },
    {
     "name": "stderr",
     "output_type": "stream",
     "text": [
      "                                                                                \r"
     ]
    }
   ],
   "source": [
    "# Joining phone and whatch Dataframes into a single one \n",
    "df_full_data = df_phones.union(df_watches).groupBy(['User', 'Model', 'gt']).agg(\n",
    "    flatten(collect_list('mean_x_list')).alias('mean_x_list'),\n",
    "    flatten(collect_list('mean_y_list')).alias('mean_y_list'),\n",
    "    flatten(collect_list('mean_z_list')).alias('mean_z_list'),\n",
    "    flatten(collect_list('stddev_x_list')).alias('stddev_x_list'),\n",
    "    flatten(collect_list('stddev_y_list')).alias('stddev_y_list'),\n",
    "    flatten(collect_list('stddev_z_list')).alias('stddev_z_list'),\n",
    "    flatten(collect_list('max_x_list')).alias('max_x_list'),\n",
    "    flatten(collect_list('max_y_list')).alias('max_y_list'),\n",
    "    flatten(collect_list('min_z_list')).alias('min_z_list'),\n",
    "    flatten(collect_list('min_x_list')).alias('min_x_list'),\n",
    "    flatten(collect_list('min_y_list')).alias('min_y_list'),\n",
    "    flatten(collect_list('max_z_list')).alias('max_z_list')\n",
    ")\n",
    "\n",
    "# Showing result Dataframe\n",
    "df_full_data.show()"
   ]
  }
 ],
 "metadata": {
  "kernelspec": {
   "display_name": "SBC",
   "language": "python",
   "name": "python3"
  },
  "language_info": {
   "codemirror_mode": {
    "name": "ipython",
    "version": 3
   },
   "file_extension": ".py",
   "mimetype": "text/x-python",
   "name": "python",
   "nbconvert_exporter": "python",
   "pygments_lexer": "ipython3",
   "version": "3.10.6"
  },
  "orig_nbformat": 4,
  "vscode": {
   "interpreter": {
    "hash": "2f20ca80cb23f5a777615dc6646e87ecf8f6c5821447011cde87d75de7e86242"
   }
  }
 },
 "nbformat": 4,
 "nbformat_minor": 2
}
