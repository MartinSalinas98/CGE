{
 "cells": [
  {
   "cell_type": "code",
   "execution_count": 1,
   "metadata": {},
   "outputs": [],
   "source": [
    "# Importing libraries\n",
    "import pyspark\n",
    "from pyspark.sql.types import StructType, StructField, StringType, IntegerType\n",
    "from pyspark.sql.functions import col, row_number, max\n",
    "from pyspark.sql.window import Window"
   ]
  },
  {
   "cell_type": "code",
   "execution_count": 2,
   "metadata": {},
   "outputs": [
    {
     "name": "stdout",
     "output_type": "stream",
     "text": [
      "22/12/23 19:50:51 WARN Utils: Your hostname, martin resolves to a loopback address: 127.0.1.1; using 192.168.0.24 instead (on interface wlp1s0)\n",
      "22/12/23 19:50:51 WARN Utils: Set SPARK_LOCAL_IP if you need to bind to another address\n"
     ]
    },
    {
     "name": "stderr",
     "output_type": "stream",
     "text": [
      "Setting default log level to \"WARN\".\n",
      "To adjust logging level use sc.setLogLevel(newLevel). For SparkR, use setLogLevel(newLevel).\n"
     ]
    },
    {
     "name": "stdout",
     "output_type": "stream",
     "text": [
      "22/12/23 19:51:02 WARN NativeCodeLoader: Unable to load native-hadoop library for your platform... using builtin-java classes where applicable\n"
     ]
    }
   ],
   "source": [
    "# Creating spark enviroment\n",
    "spark = pyspark.sql.SparkSession.builder.appName(\"CGE P6 T3\").getOrCreate()"
   ]
  },
  {
   "cell_type": "code",
   "execution_count": 3,
   "metadata": {},
   "outputs": [],
   "source": [
    "# Change this variable to decide where the dataset files will be obtained from\n",
    "useRoot = False\n",
    "\n",
    "# Dataset common path\n",
    "common_path_root = \"./\"                         # Default dataset path\n",
    "common_path_full = \"../datasets/BX-CSV-Dump/\"   # Custom dataset path for full data\n",
    "\n",
    "# Dataset file names\n",
    "users_name = \"BX-Users.csv\"\n",
    "books_name = \"BX-Books.csv\"\n",
    "ratings_name = \"BX-Book-Ratings.csv\"\n",
    "\n",
    "# Dataset paths\n",
    "path_full = (common_path_root if useRoot else common_path_full)\n",
    "users_path = path_full + users_name\n",
    "books_path = path_full + books_name\n",
    "ratings_path = path_full + ratings_name\n",
    "\n",
    "# Defining dataset schemas\n",
    "user_schema = StructType([\n",
    "    StructField(\"User-ID\", IntegerType(), True),\n",
    "    StructField(\"Location\", StringType(), True),\n",
    "    StructField(\"Age\", IntegerType(), True)\n",
    "])\n",
    "\n",
    "book_schema = StructType([\n",
    "    StructField(\"ISBN\", StringType(), True),\n",
    "    StructField(\"Book-Title\", StringType(), True),\n",
    "    StructField(\"Book-Author\", StringType(), True),\n",
    "    StructField(\"Year-Of-Publication\", IntegerType(), True),\n",
    "    StructField(\"Publisher\", StringType(), True),\n",
    "    StructField(\"Image-URL-S\", StringType(), True),\n",
    "    StructField(\"Image-URL-M\", StringType(), True),\n",
    "    StructField(\"Image-URL-L\", StringType(), True)\n",
    "])\n",
    "\n",
    "rating_schema = StructType([\n",
    "    StructField(\"User-ID\", IntegerType(), True),\n",
    "    StructField(\"ISBN\", StringType(), True),\n",
    "    StructField(\"Book-Rating\", IntegerType(), True)\n",
    "])"
   ]
  },
  {
   "cell_type": "code",
   "execution_count": 4,
   "metadata": {},
   "outputs": [
    {
     "name": "stderr",
     "output_type": "stream",
     "text": [
      "                                                                                \r"
     ]
    },
    {
     "name": "stdout",
     "output_type": "stream",
     "text": [
      "+-------+--------------------+----+\n",
      "|User-ID|            Location| Age|\n",
      "+-------+--------------------+----+\n",
      "|      1|  nyc, new york, usa|null|\n",
      "|      2|stockton, califor...|  18|\n",
      "|      3|moscow, yukon ter...|null|\n",
      "|      4|porto, v.n.gaia, ...|  17|\n",
      "|      5|farnborough, hant...|null|\n",
      "|      6|santa monica, cal...|  61|\n",
      "|      7| washington, dc, usa|null|\n",
      "|      8|timmins, ontario,...|null|\n",
      "|      9|germantown, tenne...|null|\n",
      "|     10|albacete, wiscons...|  26|\n",
      "|     11|melbourne, victor...|  14|\n",
      "|     12|fort bragg, calif...|null|\n",
      "|     13|barcelona, barcel...|  26|\n",
      "|     14|mediapolis, iowa,...|null|\n",
      "|     15|calgary, alberta,...|null|\n",
      "|     16|albuquerque, new ...|null|\n",
      "|     17|chesapeake, virgi...|null|\n",
      "|     18|rio de janeiro, r...|  25|\n",
      "|     19|           weston, ,|  14|\n",
      "|     20|langhorne, pennsy...|  19|\n",
      "+-------+--------------------+----+\n",
      "only showing top 20 rows\n",
      "\n"
     ]
    }
   ],
   "source": [
    "# Importing each dataset into a Dataframe\n",
    "df_users = spark.read.csv(users_path, schema=user_schema, sep=\";\", header=True)\n",
    "df_books = spark.read.csv(books_path, schema=book_schema, sep=\";\", header=True)\n",
    "df_ratings = spark.read.csv(ratings_path, schema=rating_schema, sep=\";\", header=True)\n",
    "\n",
    "# Removing key missing values\n",
    "df_users = df_users.filter(col('User-ID').isNotNull()) # Removing users with null User-ID (one row found)\n",
    "\n",
    "# Print one Datafram as a sample\n",
    "df_users.show()"
   ]
  },
  {
   "cell_type": "code",
   "execution_count": 5,
   "metadata": {},
   "outputs": [
    {
     "name": "stderr",
     "output_type": "stream",
     "text": [
      "                                                                                \r"
     ]
    },
    {
     "name": "stdout",
     "output_type": "stream",
     "text": [
      "+-------+--------------+\n",
      "|User-ID|Books-Reviewed|\n",
      "+-------+--------------+\n",
      "|      1|             0|\n",
      "|      2|             1|\n",
      "|      3|             0|\n",
      "|      4|             0|\n",
      "|      5|             0|\n",
      "|      6|             0|\n",
      "|      7|             1|\n",
      "|      8|            18|\n",
      "|      9|             3|\n",
      "|     10|             2|\n",
      "|     11|             0|\n",
      "|     12|             1|\n",
      "|     13|             0|\n",
      "|     14|             4|\n",
      "|     15|             0|\n",
      "|     16|             2|\n",
      "|     17|             7|\n",
      "|     18|             0|\n",
      "|     19|             1|\n",
      "|     20|             1|\n",
      "+-------+--------------+\n",
      "only showing top 20 rows\n",
      "\n"
     ]
    }
   ],
   "source": [
    "# Showing list of users with the number of books they reviewed\n",
    "# Grouping rating column by User-ID (for each user, one review can be submited per book, so each review is for a different book), and counting ratings\n",
    "df_user_ratings_count = df_ratings.groupBy('User-ID').count().withColumnRenamed('count', 'Books-Reviewed')\n",
    "\n",
    "# Adding review count to user table, removing location and age, and changing null count with 0\n",
    "df_users.join(df_user_ratings_count, on='User-ID', how='left_outer').drop('Location', 'age').fillna({'Books-Reviewed': 0}).orderBy('User-ID').show()"
   ]
  },
  {
   "cell_type": "code",
   "execution_count": 6,
   "metadata": {},
   "outputs": [
    {
     "name": "stderr",
     "output_type": "stream",
     "text": [
      "[Stage 11:=============================>                            (2 + 2) / 4]\r"
     ]
    },
    {
     "name": "stdout",
     "output_type": "stream",
     "text": [
      "+--------------------+----------+\n",
      "|           Publisher|Max-Rating|\n",
      "+--------------------+----------+\n",
      "|Harper Mass Marke...|        10|\n",
      "|        Chosen Books|        10|\n",
      "|Houghton Mifflin ...|        10|\n",
      "|      Celestial Arts|        10|\n",
      "|Ian Allan Publish...|         8|\n",
      "|Crown Publishers ...|         0|\n",
      "|Carroll &amp; Gra...|        10|\n",
      "|Orion Business Books|         1|\n",
      "|        Lorenz Books|        10|\n",
      "|Phillimore &amp; ...|         7|\n",
      "|Lucis Publishing ...|         6|\n",
      "|Collectors' Infor...|         0|\n",
      "| Research Press (IL)|         7|\n",
      "|    Underwood-Miller|        10|\n",
      "|    Daughters, inc.]|        10|\n",
      "|        Book Pub. Co|         0|\n",
      "|Chicago Review Press|        10|\n",
      "|    Adams Media Corp|        10|\n",
      "|         Hermetic Pr|        10|\n",
      "|      Aqua Explorers|         9|\n",
      "+--------------------+----------+\n",
      "only showing top 20 rows\n",
      "\n"
     ]
    },
    {
     "name": "stderr",
     "output_type": "stream",
     "text": [
      "                                                                                \r"
     ]
    }
   ],
   "source": [
    "# Showing maximum rating received by each publisher\n",
    "# Getting max rating for each book\n",
    "df_book_ratings_max = df_ratings.groupBy('ISBN').max('Book-Rating')\n",
    "\n",
    "# Joining with processed max rating for each book Dataframe, grouping by publisher,\n",
    "# and then getting max rating of all max book ratings within the same publisher\n",
    "df_books.join(df_book_ratings_max, on='ISBN', how='left_outer').groupBy('Publisher').max('max(Book-Rating)')\\\n",
    "    .withColumnRenamed('max(max(Book-Rating))', 'Max-Rating').show()"
   ]
  },
  {
   "cell_type": "code",
   "execution_count": 7,
   "metadata": {},
   "outputs": [
    {
     "name": "stderr",
     "output_type": "stream",
     "text": [
      "[Stage 20:==============>                                           (1 + 3) / 4]\r"
     ]
    },
    {
     "name": "stdout",
     "output_type": "stream",
     "text": [
      "+------------+-------------+\n",
      "| Book-Author|Ratings-Count|\n",
      "+------------+-------------+\n",
      "|Stephen King|        10053|\n",
      "+------------+-------------+\n",
      "\n"
     ]
    },
    {
     "name": "stderr",
     "output_type": "stream",
     "text": [
      "                                                                                \r"
     ]
    }
   ],
   "source": [
    "# Showing name of the author with the highest number of ratings\n",
    "# Getting the number of ratings per book\n",
    "df_book_ratings_count = df_ratings.groupBy('ISBN').count().withColumnRenamed('count', 'Ratings-Count')\n",
    "\n",
    "# Joining book Dataframe with processed ratings count Dataframe, gouping by Author, and adding all rating counts per author's book\n",
    "# Then, filling all null values with 0, and sorting by that number of ratings, and getting only first one\n",
    "df_books.join(df_book_ratings_count, on='ISBN', how='left_outer').groupBy('Book-Author').sum('Ratings-Count')\\\n",
    "    .withColumnRenamed('sum(Ratings-Count)', 'Ratings-Count').fillna({'Ratings-Count': 0}).orderBy('Ratings-Count', ascending=0).limit(1).show()"
   ]
  },
  {
   "cell_type": "code",
   "execution_count": 8,
   "metadata": {},
   "outputs": [
    {
     "name": "stderr",
     "output_type": "stream",
     "text": [
      "[Stage 34:>                                                         (0 + 1) / 1]\r"
     ]
    },
    {
     "name": "stdout",
     "output_type": "stream",
     "text": [
      "+--------------------+--------------------+-------------+\n",
      "|          Book-Title|           Publisher|Ratings-Count|\n",
      "+--------------------+--------------------+-------------+\n",
      "|      The big chapel|(3 Queen Sq., WC1...|            1|\n",
      "|Manna: foods of t...|101 Productions; ...|            2|\n",
      "|        Life Drawing|     11/9 Publishing|            1|\n",
      "| Portraits of Cities|22nd. Century, Ne...|            1|\n",
      "|Restoring Intimac...|                   3|            1|\n",
      "|300 Incredible Th...|   300Incredible.com|            4|\n",
      "|Denver Hiking Gui...|            3D Press|            1|\n",
      "|Haley's Cleaning ...|3H Productions, Inc.|            1|\n",
      "|Stories in the Wo...|             3rd Bed|            3|\n",
      "|              Dictee|     3rd Woman Press|            1|\n",
      "|Heal Thyself for ...|A &amp; B Book Di...|            1|\n",
      "|What's In Oscar's...|       A Golden Book|            3|\n",
      "|The Subjection of...|  A H M Publications|            1|\n",
      "|   Tears Of The Moon|A Jove Book, Berk...|            2|\n",
      "|     Pent Up Passion|      A New Hope Pub|            1|\n",
      "|The Prodigal Proj...|        A Plume Book|            1|\n",
      "|GraveYards of the...|A Scholastic/Madi...|            2|\n",
      "|New Age Bible Ver...|           A V Pubns|            1|\n",
      "|Stealing Sunlight...|  A. &amp; A. Farmar|            1|\n",
      "|Comuna Verdad (An...| A. &amp; M. Muchnik|            1|\n",
      "+--------------------+--------------------+-------------+\n",
      "only showing top 20 rows\n",
      "\n"
     ]
    },
    {
     "name": "stderr",
     "output_type": "stream",
     "text": [
      "                                                                                \r"
     ]
    }
   ],
   "source": [
    "# Showing the name of the book with the highest number of ratings for each publisher\n",
    "# Joining books and ratings Dataframes to add to books Dataframe the column with the ratings count,\n",
    "# and dropping unnecessary columns\n",
    "df_books_with_rating_count = df_books.join(df_book_ratings_count, on='ISBN', how='left_outer')\\\n",
    "    .drop('Book-Author', 'Year-Of-Publication', 'Image-URL-S', 'Image-URL-M', 'Image-URL-L', 'ISBN')\n",
    "\n",
    "# Creating Window function that partitions the Dataframe by publisher, and sorts by ratings count in descending order\n",
    "window_func = Window.partitionBy(\"Publisher\").orderBy(df_books_with_rating_count['Ratings-Count'].desc())\n",
    "\n",
    "# Adding column row number\n",
    "df_books_with_rating_count = df_books_with_rating_count.withColumn(\"row_number\", row_number().over(window_func))\n",
    "\n",
    "# Get rows that have 1 as row number (for each publisher, the book with the most ratings), dropping row number column and filling null values with 0\n",
    "df_books_with_rating_count.filter(df_books_with_rating_count[\"row_number\"] == 1).drop(\"row_number\").fillna({'Ratings-Count': 0}).show()"
   ]
  },
  {
   "cell_type": "code",
   "execution_count": 9,
   "metadata": {},
   "outputs": [
    {
     "name": "stderr",
     "output_type": "stream",
     "text": [
      "[Stage 43:>                                                         (0 + 4) / 4]\r"
     ]
    },
    {
     "name": "stdout",
     "output_type": "stream",
     "text": [
      "+--------------------+--------------------+-------------+-----------------+----------+\n",
      "|          Book-Title|           Publisher|Ratings-Count|Max-Ratings-Count|Difference|\n",
      "+--------------------+--------------------+-------------+-----------------+----------+\n",
      "|La Terre sous ses...|   �?�?ditions 10/18|            1|                1|         0|\n",
      "|Atem und Stimme. ...|       �?¶bv&amp;hpt|            1|                1|         0|\n",
      "|Maria Jeritza: Pr...|�?sterreichischer...|            1|                1|         0|\n",
      "|Reiseführer ins J...|�?sterreichische ...|            1|                1|         0|\n",
      "|Heimat los!: Aus ...|             �?lbaum|            1|                1|         0|\n",
      "|Toi, ou personne:...|�?ditions la Matz...|            1|                1|         0|\n",
      "|Fragments d'un di...|  �?ditions du Seuil|            2|                2|         0|\n",
      "|Rue du prolétaire...|  �?ditions du Seuil|            1|                2|         1|\n",
      "|La plus haute des...|  �?ditions du Seuil|            1|                2|         1|\n",
      "|Les flamboyants: ...|  �?ditions du Seuil|            1|                2|         1|\n",
      "|\"Un Feu dévore un...|  �?ditions du Seuil|            1|                2|         1|\n",
      "|Les origines de l...|  �?ditions du Seuil|            1|                2|         1|\n",
      "|Le Macroscope: Ve...|  �?ditions du Seuil|            1|                2|         1|\n",
      "|Qui a peur du Tie...|  �?ditions du Seuil|            1|                2|         1|\n",
      "|           Compagnie| �?ditions de minuit|            1|                1|         0|\n",
      "|Le Mythe de l'int...| �?ditions de Minuit|            1|                1|         0|\n",
      "|Bosnie: Le prix d...|  �?ditions Michalon|            1|                1|         0|\n",
      "|... vol ... à bor...|�?ditions Hurtubi...|            1|                1|         0|\n",
      "|Le gouverneur du ...| �?ditions 24 heures|            1|                1|         0|\n",
      "|ANNUAL WHOPPER BO...|whitman publishin...|            1|                1|         0|\n",
      "+--------------------+--------------------+-------------+-----------------+----------+\n",
      "only showing top 20 rows\n",
      "\n"
     ]
    },
    {
     "name": "stderr",
     "output_type": "stream",
     "text": [
      "                                                                                \r"
     ]
    }
   ],
   "source": [
    "# Showing the difference between the number of ratings of each book and the number of ratings of the book with the most ratings within the same publisher\n",
    "# Creating window fuction\n",
    "window_func = Window.partitionBy('Publisher')\n",
    "\n",
    "# Calculating the maximum number of ratings for each publisher\n",
    "df_max = df_books_with_rating_count.withColumn('Max-Ratings-Count', max('Ratings-Count').over(window_func)).drop('row_number')\n",
    "\n",
    "# Adding a new column with the difference between the number of ratings of each book and the maximum number of ratings for the same publisher\n",
    "df_result = df_max.withColumn('Difference', df_max['Max-Ratings-Count'] - df_max['Ratings-Count'])\\\n",
    "    .orderBy('Publisher', 'Ratings-Count', ascending=False)\n",
    "df_result.show()"
   ]
  }
 ],
 "metadata": {
  "kernelspec": {
   "display_name": "SBC",
   "language": "python",
   "name": "python3"
  },
  "language_info": {
   "codemirror_mode": {
    "name": "ipython",
    "version": 3
   },
   "file_extension": ".py",
   "mimetype": "text/x-python",
   "name": "python",
   "nbconvert_exporter": "python",
   "pygments_lexer": "ipython3",
   "version": "3.10.6"
  },
  "orig_nbformat": 4,
  "vscode": {
   "interpreter": {
    "hash": "2f20ca80cb23f5a777615dc6646e87ecf8f6c5821447011cde87d75de7e86242"
   }
  }
 },
 "nbformat": 4,
 "nbformat_minor": 2
}
