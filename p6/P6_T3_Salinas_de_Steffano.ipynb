{
 "cells": [
  {
   "cell_type": "code",
   "execution_count": 1,
   "metadata": {},
   "outputs": [],
   "source": [
    "# Importing libraries\n",
    "import pyspark\n",
    "from pyspark.sql.types import StructType, StructField, StringType, IntegerType, FloatType"
   ]
  },
  {
   "cell_type": "code",
   "execution_count": 2,
   "metadata": {},
   "outputs": [
    {
     "name": "stdout",
     "output_type": "stream",
     "text": [
      "22/12/23 15:17:32 WARN Utils: Your hostname, martin resolves to a loopback address: 127.0.1.1; using 192.168.0.24 instead (on interface wlp1s0)\n",
      "22/12/23 15:17:33 WARN Utils: Set SPARK_LOCAL_IP if you need to bind to another address\n"
     ]
    },
    {
     "name": "stderr",
     "output_type": "stream",
     "text": [
      "Setting default log level to \"WARN\".\n",
      "To adjust logging level use sc.setLogLevel(newLevel). For SparkR, use setLogLevel(newLevel).\n"
     ]
    },
    {
     "name": "stdout",
     "output_type": "stream",
     "text": [
      "22/12/23 15:17:45 WARN NativeCodeLoader: Unable to load native-hadoop library for your platform... using builtin-java classes where applicable\n",
      "22/12/23 15:17:49 WARN Utils: Service 'SparkUI' could not bind on port 4040. Attempting port 4041.\n",
      "22/12/23 15:17:49 WARN Utils: Service 'SparkUI' could not bind on port 4041. Attempting port 4042.\n"
     ]
    }
   ],
   "source": [
    "# Creating spark enviroment\n",
    "spark = pyspark.sql.SparkSession.builder.appName(\"CGE P6 T3\").getOrCreate()"
   ]
  },
  {
   "cell_type": "code",
   "execution_count": 5,
   "metadata": {},
   "outputs": [],
   "source": [
    "# Change this variable to decide where the dataset files will be obtained from\n",
    "useRoot = False\n",
    "\n",
    "# Dataset common path\n",
    "common_path_root = \"./\"                         # Default dataset path\n",
    "common_path_full = \"../datasets/BX-CSV-Dump/\"   # Custom dataset path for full data\n",
    "\n",
    "# Dataset file names\n",
    "users_name = \"BX-Users.csv\"\n",
    "books_name = \"BX-Books.csv\"\n",
    "ratings_name = \"BX-Book-Ratings.csv\"\n",
    "\n",
    "# Dataset paths\n",
    "path_full = (common_path_root if useRoot else common_path_full)\n",
    "users_path = path_full + users_name\n",
    "books_path = path_full + books_name\n",
    "ratings_path = path_full + ratings_name\n",
    "\n",
    "# Defining dataset schemas\n",
    "user_schema = StructType([\n",
    "    StructField(\"User-ID\", IntegerType(), True),\n",
    "    StructField(\"Location\", StringType(), True),\n",
    "    StructField(\"Age\", IntegerType(), True)\n",
    "])\n",
    "\n",
    "book_schema = StructType([\n",
    "    StructField(\"ISBN\", StringType(), True),\n",
    "    StructField(\"Book-Title\", StringType(), True),\n",
    "    StructField(\"Book-Author\", StringType(), True),\n",
    "    StructField(\"Year-Of-Publication\", IntegerType(), True),\n",
    "    StructField(\"Publisher\", StringType(), True),\n",
    "    StructField(\"Image-URL-S\", StringType(), True),\n",
    "    StructField(\"Image-URL-M\", StringType(), True),\n",
    "    StructField(\"Image-URL-L\", StringType(), True)\n",
    "])\n",
    "\n",
    "rating_schema = StructType([\n",
    "    StructField(\"User-ID\", IntegerType(), True),\n",
    "    StructField(\"ISBN\", StringType(), True),\n",
    "    StructField(\"Book-Rating\", IntegerType(), True)\n",
    "])"
   ]
  },
  {
   "cell_type": "code",
   "execution_count": 9,
   "metadata": {},
   "outputs": [
    {
     "name": "stdout",
     "output_type": "stream",
     "text": [
      "+-------+--------------------+----+\n",
      "|User-ID|            Location| Age|\n",
      "+-------+--------------------+----+\n",
      "|      1|  nyc, new york, usa|null|\n",
      "|      2|stockton, califor...|  18|\n",
      "|      3|moscow, yukon ter...|null|\n",
      "|      4|porto, v.n.gaia, ...|  17|\n",
      "|      5|farnborough, hant...|null|\n",
      "|      6|santa monica, cal...|  61|\n",
      "|      7| washington, dc, usa|null|\n",
      "|      8|timmins, ontario,...|null|\n",
      "|      9|germantown, tenne...|null|\n",
      "|     10|albacete, wiscons...|  26|\n",
      "|     11|melbourne, victor...|  14|\n",
      "|     12|fort bragg, calif...|null|\n",
      "|     13|barcelona, barcel...|  26|\n",
      "|     14|mediapolis, iowa,...|null|\n",
      "|     15|calgary, alberta,...|null|\n",
      "|     16|albuquerque, new ...|null|\n",
      "|     17|chesapeake, virgi...|null|\n",
      "|     18|rio de janeiro, r...|  25|\n",
      "|     19|           weston, ,|  14|\n",
      "|     20|langhorne, pennsy...|  19|\n",
      "+-------+--------------------+----+\n",
      "only showing top 20 rows\n",
      "\n"
     ]
    }
   ],
   "source": [
    "# Importing each dataset into a Dataframe\n",
    "df_users = spark.read.csv(users_path, schema=user_schema, sep=\";\", header=True)\n",
    "df_books = spark.read.csv(books_path, schema=book_schema, sep=\";\", header=True)\n",
    "df_ratings = spark.read.csv(ratings_path, schema=rating_schema, sep=\";\", header=True)\n",
    "\n",
    "# Print one Datafram as a sample\n",
    "df_users.show()"
   ]
  }
 ],
 "metadata": {
  "kernelspec": {
   "display_name": "SBC",
   "language": "python",
   "name": "python3"
  },
  "language_info": {
   "codemirror_mode": {
    "name": "ipython",
    "version": 3
   },
   "file_extension": ".py",
   "mimetype": "text/x-python",
   "name": "python",
   "nbconvert_exporter": "python",
   "pygments_lexer": "ipython3",
   "version": "3.10.6"
  },
  "orig_nbformat": 4,
  "vscode": {
   "interpreter": {
    "hash": "2f20ca80cb23f5a777615dc6646e87ecf8f6c5821447011cde87d75de7e86242"
   }
  }
 },
 "nbformat": 4,
 "nbformat_minor": 2
}
