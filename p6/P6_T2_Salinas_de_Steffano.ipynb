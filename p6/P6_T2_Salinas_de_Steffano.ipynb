{
 "cells": [
  {
   "cell_type": "code",
   "execution_count": 1,
   "metadata": {},
   "outputs": [],
   "source": [
    "# Importing libraries\n",
    "import os, time, numpy as np, pyspark\n",
    "from pyspark.sql.types import StructType, StructField, StringType, IntegerType, FloatType\n",
    "from pyspark.sql.functions import mean, stddev, min, max, collect_list, flatten, concat, col"
   ]
  },
  {
   "cell_type": "code",
   "execution_count": 2,
   "metadata": {},
   "outputs": [
    {
     "name": "stdout",
     "output_type": "stream",
     "text": [
      "22/12/23 15:05:49 WARN Utils: Your hostname, martin resolves to a loopback address: 127.0.1.1; using 192.168.0.24 instead (on interface wlp1s0)\n",
      "22/12/23 15:05:49 WARN Utils: Set SPARK_LOCAL_IP if you need to bind to another address\n"
     ]
    },
    {
     "name": "stderr",
     "output_type": "stream",
     "text": [
      "Setting default log level to \"WARN\".\n",
      "To adjust logging level use sc.setLogLevel(newLevel). For SparkR, use setLogLevel(newLevel).\n"
     ]
    },
    {
     "name": "stdout",
     "output_type": "stream",
     "text": [
      "22/12/23 15:06:00 WARN NativeCodeLoader: Unable to load native-hadoop library for your platform... using builtin-java classes where applicable\n",
      "22/12/23 15:06:03 WARN Utils: Service 'SparkUI' could not bind on port 4040. Attempting port 4041.\n"
     ]
    }
   ],
   "source": [
    "# Creating spark enviroment\n",
    "spark = pyspark.sql.SparkSession.builder.appName(\"CGE P6 T2\").getOrCreate()"
   ]
  },
  {
   "cell_type": "code",
   "execution_count": 3,
   "metadata": {},
   "outputs": [],
   "source": [
    "# Change this variable to decide where the dataset files will be obtained from\n",
    "useRoot = False\n",
    "\n",
    "# Dataset common path\n",
    "common_path_root = \"./\"                             # Default dataset path\n",
    "common_path_full = \"../datasets/datos_sensores/\"    # Custom dataset path for full data\n",
    "\n",
    "# Dataset file names\n",
    "phones_acc_name = \"Phones_accelerometer.csv\"\n",
    "phones_gyr_name = \"Phones_gyroscope.csv\"\n",
    "watch_acc_name = \"Watch_accelerometer.csv\"\n",
    "watch_gyr_name = \"Watch_gyroscope.csv\"\n",
    "\n",
    "# Dataset paths\n",
    "path_full = (common_path_root if useRoot else common_path_full)\n",
    "phones_acc_path = path_full + phones_acc_name\n",
    "phones_gyr_path = path_full + phones_gyr_name\n",
    "watch_acc_path = path_full + watch_acc_name\n",
    "watch_gyr_path = path_full + watch_gyr_name\n",
    "\n",
    "# Defining dataset schema\n",
    "dataset_schema = StructType([\n",
    "    StructField(\"Index\", IntegerType(), True),\n",
    "    StructField(\"Arrival_Time\", StringType(), True),\n",
    "    StructField(\"Creation_Time\", StringType(), True),\n",
    "    StructField(\"x\", FloatType(), True),\n",
    "    StructField(\"y\", FloatType(), True),\n",
    "    StructField(\"z\", FloatType(), True),\n",
    "    StructField(\"User\", StringType(), True),\n",
    "    StructField(\"Model\", StringType(), True),\n",
    "    StructField(\"Device\", StringType(), True),\n",
    "    StructField(\"gt\", StringType(), True)\n",
    "])\n",
    "\n",
    "# Defining function to group Dataframe by User, Model, and class (gt) and performing required aggregates\n",
    "def computeDFStats(df):\n",
    "    df_grouped = df.groupBy(\"User\", \"Model\", \"gt\").agg(\n",
    "        mean(\"x\").alias(\"mean_x\"),\n",
    "        mean(\"y\").alias(\"mean_y\"),\n",
    "        mean(\"z\").alias(\"mean_z\"),\n",
    "        stddev(\"x\").alias(\"stddev_x\"),\n",
    "        stddev(\"y\").alias(\"stddev_y\"),\n",
    "        stddev(\"z\").alias(\"stddev_z\"),\n",
    "        max(\"x\").alias(\"max_x\"),\n",
    "        max(\"y\").alias(\"max_y\"),\n",
    "        min(\"z\").alias(\"min_z\"),\n",
    "        min(\"x\").alias(\"min_x\"),\n",
    "        min(\"y\").alias(\"min_y\"),\n",
    "        max(\"z\").alias(\"max_z\")\n",
    "    )\n",
    "\n",
    "    return df_grouped\n",
    "\n",
    "# Defining function to group Dataframe by User, Model, and class (gt) and performing required aggregates\n",
    "def regroupJoinedDataframes(df):\n",
    "    df_grouped = df.groupBy(\"User\", \"Model\", \"gt\").agg(\n",
    "        collect_list('mean_x').alias('mean_x_list'),\n",
    "        collect_list('mean_y').alias('mean_y_list'),\n",
    "        collect_list('mean_z').alias('mean_z_list'),\n",
    "        collect_list('stddev_x').alias('stddev_x_list'),\n",
    "        collect_list('stddev_y').alias('stddev_y_list'),\n",
    "        collect_list('stddev_z').alias('stddev_z_list'),\n",
    "        collect_list('max_x').alias('max_x_list'),\n",
    "        collect_list('max_y').alias('max_y_list'),\n",
    "        collect_list('max_z').alias('max_z_list'),\n",
    "        collect_list('min_x').alias('min_x_list'),\n",
    "        collect_list('min_y').alias('min_y_list'),\n",
    "        collect_list('min_z').alias('min_z_list')\n",
    "    )\n",
    "\n",
    "    return df_grouped"
   ]
  },
  {
   "cell_type": "code",
   "execution_count": 4,
   "metadata": {},
   "outputs": [
    {
     "name": "stderr",
     "output_type": "stream",
     "text": [
      "                                                                                \r"
     ]
    },
    {
     "name": "stdout",
     "output_type": "stream",
     "text": [
      "+-----+-------------+-------------------+----------+----------+---------+----+------+--------+-----+\n",
      "|Index| Arrival_Time|      Creation_Time|         x|         y|        z|User| Model|  Device|   gt|\n",
      "+-----+-------------+-------------------+----------+----------+---------+----+------+--------+-----+\n",
      "|    0|1424696633908|1424696631913248572| -5.958191| 0.6880646| 8.135345|   a|nexus4|nexus4_1|stand|\n",
      "|    1|1424696633909|1424696631918283972|  -5.95224| 0.6702118| 8.136536|   a|nexus4|nexus4_1|stand|\n",
      "|    2|1424696633918|1424696631923288855|-5.9950867| 0.6535492| 8.204376|   a|nexus4|nexus4_1|stand|\n",
      "|    3|1424696633919|1424696631928385290|-5.9427185| 0.6761627| 8.128204|   a|nexus4|nexus4_1|stand|\n",
      "|    4|1424696633929|1424696631933420691| -5.991516|0.64164734| 8.135345|   a|nexus4|nexus4_1|stand|\n",
      "|    5|1424696633929|1424696631938456091| -5.965332| 0.6297455| 8.128204|   a|nexus4|nexus4_1|stand|\n",
      "|    6|1424696633938|1424696631943522009| -5.991516| 0.6356964|  8.16272|   a|nexus4|nexus4_1|stand|\n",
      "|    7|1424696633939|1424696631948496374| -5.915344|0.63093567| 8.105591|   a|nexus4|nexus4_1|stand|\n",
      "|    8|1424696633951|1424696631953592810| -5.984375| 0.6940155| 8.067505|   a|nexus4|nexus4_1|stand|\n",
      "|    9|1424696633952|1424696631960428747| -5.937958|0.71543884| 8.090118|   a|nexus4|nexus4_1|stand|\n",
      "|   10|1424696633959|1424696631963663611| -5.902252| 0.6678314| 8.069885|   a|nexus4|nexus4_1|stand|\n",
      "|   11|1424696633960|1424696631968912634|-5.9498596|0.68092346| 8.119873|   a|nexus4|nexus4_1|stand|\n",
      "|   12|1424696633966|1424696631973734412|-5.9796143| 0.7416229|8.0841675|   a|nexus4|nexus4_1|stand|\n",
      "|   13|1424696633972|1424696631978769812|-5.9617615|0.71424866| 8.155579|   a|nexus4|nexus4_1|stand|\n",
      "|   14|1424696633978|1424696631983805212|  -5.95343| 0.7130585| 8.153198|   a|nexus4|nexus4_1|stand|\n",
      "|   15|1424696633981|1424696631988840613|-5.8665466| 0.7344818|  8.10083|   a|nexus4|nexus4_1|stand|\n",
      "|   16|1424696633989|1424696631993876013| -5.901062| 0.7582855| 8.081787|   a|nexus4|nexus4_1|stand|\n",
      "|   17|1424696633991|1424696631999064001|-5.8713074| 0.7190094| 8.192474|   a|nexus4|nexus4_1|stand|\n",
      "|   18|1424696634003|1424696632003946814| -5.932007|0.67259216| 8.185333|   a|nexus4|nexus4_1|stand|\n",
      "|   19|1424696634004|1424696632010447058| -5.895111| 0.6797333| 8.132965|   a|nexus4|nexus4_1|stand|\n",
      "+-----+-------------+-------------------+----------+----------+---------+----+------+--------+-----+\n",
      "only showing top 20 rows\n",
      "\n"
     ]
    }
   ],
   "source": [
    "# Importing each dataset into a Dataframe\n",
    "df_acc_phones = spark.read.format(\"csv\").schema(dataset_schema).load(phones_acc_path)\n",
    "df_gyr_phones = spark.read.format(\"csv\").schema(dataset_schema).load(phones_gyr_path)\n",
    "df_acc_watches = spark.read.format(\"csv\").schema(dataset_schema).load(watch_acc_path)\n",
    "df_gyr_watches = spark.read.format(\"csv\").schema(dataset_schema).load(watch_gyr_path)\n",
    "\n",
    "# Print one Datafram as a sample\n",
    "df_acc_phones.show()"
   ]
  },
  {
   "cell_type": "code",
   "execution_count": 5,
   "metadata": {},
   "outputs": [
    {
     "name": "stderr",
     "output_type": "stream",
     "text": [
      "                                                                                \r"
     ]
    }
   ],
   "source": [
    "# Writing into parquet format\n",
    "df_acc_phones.write.mode(\"overwrite\").parquet(path_full + os.path.splitext(phones_acc_name)[0] + \".parquet\")\n",
    "df_gyr_phones.write.mode(\"overwrite\").parquet(path_full + os.path.splitext(phones_gyr_name)[0] + \".parquet\")\n",
    "df_acc_watches.write.mode(\"overwrite\").parquet(path_full + os.path.splitext(watch_acc_name)[0] + \".parquet\")\n",
    "df_gyr_watches.write.mode(\"overwrite\").parquet(path_full + os.path.splitext(watch_gyr_name)[0] + \".parquet\")"
   ]
  },
  {
   "cell_type": "code",
   "execution_count": 6,
   "metadata": {},
   "outputs": [],
   "source": [
    "# This function returns the size of a given folder in bytes\n",
    "def getFolderSize(folder_path):\n",
    "    size = 0\n",
    "    for path, dirs, files in os.walk(folder_path):\n",
    "        for f in files:\n",
    "            fp = os.path.join(path, f)\n",
    "            size += os.path.getsize(fp)\n",
    "    return size\n",
    "\n",
    "# This function returns a tuple containing he name of the given file, the size of the csv file, and the size of the parquet file\n",
    "# Sizes are in bytes\n",
    "def getSizeData(file_path):\n",
    "    return (\n",
    "        os.path.basename(file_path),\n",
    "        os.path.getsize(file_path + \".csv\"),\n",
    "        getFolderSize(file_path + \".parquet\")\n",
    "    )"
   ]
  },
  {
   "cell_type": "code",
   "execution_count": 7,
   "metadata": {},
   "outputs": [
    {
     "name": "stderr",
     "output_type": "stream",
     "text": [
      "                                                                                \r"
     ]
    },
    {
     "name": "stdout",
     "output_type": "stream",
     "text": [
      "+--------------------+----------+------------+\n",
      "|           File_name|  csv_size|parquet_size|\n",
      "+--------------------+----------+------------+\n",
      "|Phones_accelerometer|1291856327|   302564744|\n",
      "|    Phones_gyroscope|1379145657|   317189065|\n",
      "| Watch_accelerometer| 327168052|    85706745|\n",
      "|     Watch_gyroscope| 308337025|    77764632|\n",
      "+--------------------+----------+------------+\n",
      "\n"
     ]
    }
   ],
   "source": [
    "# Column names\n",
    "df_size_column_names = ['File_name', 'csv_size', 'parquet_size']\n",
    "\n",
    "# List to convert into Dataframe\n",
    "size_data = [\n",
    "    getSizeData(path_full + os.path.splitext(phones_acc_name)[0]),\n",
    "    getSizeData(path_full + os.path.splitext(phones_gyr_name)[0]),\n",
    "    getSizeData(path_full + os.path.splitext(watch_acc_name)[0]),\n",
    "    getSizeData(path_full + os.path.splitext(watch_gyr_name)[0])\n",
    "]\n",
    "\n",
    "# Creating Dataframe\n",
    "df_sizes = spark.createDataFrame(data=size_data, schema=df_size_column_names)\n",
    "\n",
    "# Showing Dataframe\n",
    "df_sizes.show()"
   ]
  },
  {
   "cell_type": "code",
   "execution_count": 8,
   "metadata": {},
   "outputs": [],
   "source": [
    "######################################## Useful functions for the following tasks ########################################\n",
    "# This function parses the input string based RDD into tuples\n",
    "def parseRawRDD(rawRDD):\n",
    "    # Splitting row into an array with the separator, and adding User, Model, and action (gt) as key\n",
    "    return rawRDD.map(lambda line: line.split(\",\")).map(lambda line: ((line[6], line[7], line[9]), (float(line[3]), float(line[4]), float(line[5]))))\n",
    "\n",
    "# This function returns the given RDD with elements grouped by key and values as a list\n",
    "def groupData(rdd):\n",
    "    return rdd.groupByKey().mapValues(list)\n",
    "\n",
    "# Defining funtion that will compute stats for each list of values\n",
    "def computeRDDStats(values):\n",
    "    # Calculating values\n",
    "    mean = np.mean(values, axis=0)\n",
    "    std = np.std(values, axis=0)\n",
    "    max = np.max(values, axis=0)\n",
    "    min = np.min(values, axis=0)\n",
    "\n",
    "    return np.concatenate([mean, std, max, min]).ravel().tolist()\n",
    "\n",
    "# Defining function to group RDD by User, Model, and class (gt) and performing required aggregates\n",
    "def transformRDD(rdd):\n",
    "    # Grouping RDD by key\n",
    "    rdd = groupData(rdd)\n",
    "\n",
    "    # Calculating values\n",
    "    rdd = rdd.mapValues(computeRDDStats)\n",
    "\n",
    "    # Returning RDD with the following shape for each line:\n",
    "    # (User, Model, gt), [mean_x, mean_y, mean_z, std_x, std_y, std_z, max_x, max_y, max_z, min_x, min_y, min_z]\n",
    "    return rdd\n",
    "\n",
    "# This function creates an RDD given the path for a csv file\n",
    "def getRawRDD(path):\n",
    "    # Returing the dataset in tuples parsing the index, x, y, and z into the required data types\n",
    "    return spark.sparkContext.textFile(path).map(lambda line: line.split(\",\"))\\\n",
    "        .map(lambda line: (int(line[0]), line[1], line[2], float(line[3]), float(line[4]), float(line[5]), line[6], line[7], line[8], line[9]))"
   ]
  },
  {
   "cell_type": "code",
   "execution_count": 9,
   "metadata": {},
   "outputs": [
    {
     "name": "stderr",
     "output_type": "stream",
     "text": [
      "                                                                                \r"
     ]
    },
    {
     "name": "stdout",
     "output_type": "stream",
     "text": [
      "(('h', 'nexus4', 'stand'), [[[-4.613476210915189, 1.1175838345734932, 8.75932358809759, 0.3091236810641607, 0.38506770577906013, 0.29730100460013736, -2.7230988, 3.0986328, 9.884917999999999, -6.1807555999999995, 0.2584076, 7.4829254], [-0.00015575966694099838, -0.0006526839680054187, -0.0007058933840264764, 0.06367217266889313, 0.048615001342265755, 0.09967831960056188, 0.42042542, 0.42703247, 0.7403411999999999, -0.41392517, -0.41036987, -0.59373474]]])\n",
      "Time elapsed in RDDs: 234.3363811969757 seconds\n"
     ]
    }
   ],
   "source": [
    "# Checking execution time for the whole process with RDDs from csv files\n",
    "# Staring timer\n",
    "start_time = time.time()\n",
    "\n",
    "# Importing each dataset into an RDD\n",
    "rdd_acc_phones = parseRawRDD(spark.sparkContext.textFile(phones_acc_path))\n",
    "rdd_gyr_phones = parseRawRDD(spark.sparkContext.textFile(phones_gyr_path))\n",
    "rdd_acc_watches = parseRawRDD(spark.sparkContext.textFile(watch_acc_path))\n",
    "rdd_gyr_watches = parseRawRDD(spark.sparkContext.textFile(watch_gyr_path))\n",
    "\n",
    "# Transforming each RDD given the required aggregate function\n",
    "rdd_acc_phones = transformRDD(rdd_acc_phones)\n",
    "rdd_gyr_phones = transformRDD(rdd_gyr_phones)\n",
    "rdd_acc_watches = transformRDD(rdd_acc_watches)\n",
    "rdd_gyr_watches = transformRDD(rdd_gyr_watches)\n",
    "\n",
    "# Joining RDDs by phones and watches\n",
    "rdd_phones = groupData(rdd_acc_phones.union(rdd_gyr_phones))\n",
    "rdd_watches = groupData(rdd_acc_watches.union(rdd_gyr_watches))\n",
    "\n",
    "# Joining phone and whatch RDDs into a single one \n",
    "rdd_full_data = groupData(rdd_phones.union(rdd_watches))\n",
    "\n",
    "# Showing first row of result RDD to force evaluation\n",
    "print(rdd_full_data.first())\n",
    "\n",
    "# Stop timer and calculate elapsed time\n",
    "rdd_execution_time = time.time() - start_time\n",
    "print(\"Time elapsed in RDDs:\", rdd_execution_time, \"seconds\")"
   ]
  },
  {
   "cell_type": "code",
   "execution_count": 10,
   "metadata": {},
   "outputs": [
    {
     "name": "stderr",
     "output_type": "stream",
     "text": [
      "[Stage 17:===================================================>     (9 + 1) / 10]\r"
     ]
    },
    {
     "name": "stdout",
     "output_type": "stream",
     "text": [
      "+----+-------+----------+--------------------+--------------------+--------------------+--------------------+--------------------+--------------------+--------------------+--------------------+--------------------+--------------------+--------------------+--------------------+\n",
      "|User|  Model|        gt|         mean_x_list|         mean_y_list|         mean_z_list|       stddev_x_list|       stddev_y_list|       stddev_z_list|          max_x_list|          max_y_list|          min_z_list|          min_x_list|          min_y_list|          max_z_list|\n",
      "+----+-------+----------+--------------------+--------------------+--------------------+--------------------+--------------------+--------------------+--------------------+--------------------+--------------------+--------------------+--------------------+--------------------+\n",
      "|   a|   gear|      bike|[-7.3919511411324...|[-0.8663799732158...|[6.09251652058661...|[1.41698038260643...|[1.41059091659425...|[1.09386294202730...|[0.12030864, 2.76...|[7.49445, 1.8178738]|[-2.9239187, -1.4...|[-19.6133, -3.729...|[-10.5841675, -2....|[13.58051, 0.9984...|\n",
      "|   a|   gear|      null|[-7.3154586725546...|[-0.9789381958111...|[-1.5837490355914...|[3.43872420571079...|[5.56055033087440...|[3.77834969285720...|[3.426701, 4.795554]|[11.820772, 3.748...|[-17.658434, -4.7...|[-19.6133, -5.811...|[-18.743008, -3.4...|[16.377537, 5.25202]|\n",
      "|   a|   gear|       sit|[-7.5956151304648...|[-3.1269702831970...|[2.23662102487922...|[0.56015122923851...|[4.76215810605455...|[0.86988566173815...|[6.7983356, 1.457...|[6.420052, 1.9001...|[-3.6709096, -2.3...|[-11.073183, -1.6...|[-9.745598, -2.05...|[7.9529395, 1.319...|\n",
      "|   a|   gear|stairsdown|[-9.9478021419127...|[-2.8096421499041...|[-2.5004761899731...|[4.14672094577699...|[2.48994709712208...|[2.31000224103564...|[-0.61171854, 4.7...|[9.741408, 4.0703...|[-10.839149, -5.8...|[-19.6133, -3.830...|[-13.747506, -3.9...|[2.8909986, 6.375...|\n",
      "|   a|   gear|  stairsup|[-10.577938942379...|[-2.4308538879524...|[-2.4599819472571...|[3.51365889632782...|[2.36394732057785...|[1.80381853209862...|[-3.1711202, 3.83...|[10.337564, 3.418...|[-9.342773, -4.43...|[-19.6133, -4.453...|[-11.112088, -3.6...|[3.6577415, 5.178...|\n",
      "|   a|   gear|     stand|[-8.1401074227163...|[-0.8463075172237...|[0.37037696742269...|[2.27249263788718...|[3.96356817564508...|[3.08129296562914...|[-0.5650316, 1.18...|[11.52449, 0.9717...|[-8.895657, -1.23...|[-12.600683, -2.0...|[-11.08276, -0.80...|[9.004593, 1.1475...|\n",
      "|   a|   gear|      walk|[-8.2094352560823...|[-0.6317477730359...|[-2.5582866561941...|[3.9785584813443,...|[5.75716358152198...|[2.50957044711629...|[5.0571527, 5.064...|[19.612701, 6.259...|[-19.6133, -8.714...|[-19.6133, -8.680...|[-15.020623, -6.1...|[14.097658, 5.110...|\n",
      "|   a|lgwatch|      bike|[-7.4720036823494...|[-1.1253988813632...|[5.97928259047825...|[1.92598971807905...|[2.38115814729517...|[1.25758270605911...|[7.906479, 3.2115...|[19.325012, 1.276...|[-19.072342, -4.3...|[-19.669525, -3.6...|[-11.391144, -1.0...|[19.927063, 3.720...|\n",
      "|   a|lgwatch|      null|[-8.0220640315525...|[-4.9546423621808...|[1.00944453984650...|[2.76291659828030...|[2.77622450777004...|[2.13756793192149...|[7.4042206, 7.540...|[19.296005, 3.532...|[-19.274078, -5.5...|[-19.669525, -10....|[-19.7034, -3.631...|[19.725327, 5.473...|\n",
      "|   a|lgwatch|       sit|[-8.0155764880313...|[-5.3272475912473...|[2.41398654806449...|[0.33091091962714...|[1.27007564098703...|[0.36135309303897...|[-2.5766754, 1.54...|[4.1126556, 1.548...|[-0.55781555, -1....|[-12.119583, -2.8...|[-9.63443, -1.574...|[5.809677, 1.2063...|\n",
      "|   a|lgwatch|stairsdown|[-9.7056835467829...|[-3.2624266853311...|[0.30267008616172...|[4.20252153750860...|[1.98509624183231...|[1.80591442905735...|[4.9617004, 6.584...|[13.100937, 3.904...|[-7.96315, -5.304...|[-19.669525, -6.5...|[-14.076202, -3.6...|[11.000671, 6.022...|\n",
      "|   a|lgwatch|  stairsup|[-10.198670744895...|[-2.7880586861916...|[0.54332629526438...|[3.48807237483852...|[1.77410879292769...|[1.37801341066272...|[9.020233, 4.883194]|[8.942429, 1.9378...|[-5.8041534, -4.4...|[-19.669525, -8.1...|[-10.286652, -3.0...|[10.810837, 5.442...|\n",
      "|   a|lgwatch|     stand|[-8.8958957851133...|[-0.8900758851708...|[1.22886694301350...|[1.34620316974227...|[3.57786017574692...|[1.54798762913580...|[6.4113464, 4.914...|[17.218979, 6.005...|[-8.50885, -3.936...|[-15.6475525, -4....|[-10.507584, -3.0...|[12.440796, 2.476...|\n",
      "|   a|lgwatch|      walk|[-7.6235041181980...|[-3.5479060393643...|[-0.6131441028330...|[3.81487843087590...|[5.09001963697191...|[2.18696593172126...|[13.869308, 5.675...|[13.960251, 4.739...|[-9.838882, -5.23...|[-19.669525, -4.3...|[-19.7034, -2.972...|[19.465866, 5.070...|\n",
      "|   a| nexus4|      bike|[0.08360855915810...|[-0.0245181431967...|[-0.1626678366684...|[0.20911194457512...|[0.29129900065006...|[0.31227915263869...|[0.8003235, 0.510...|[1.0015106, 5.074...|[-1.3098145, 4.91...|[-0.798645, -9.72...|[-1.2573853, -2.6...|[1.6680908, 15.51...|\n",
      "|   a| nexus4|      null|[-3.8477680780956...|[0.00206016519643...|[8.53550993245735...|[3.43274550504997...|[1.26045867580383...|[1.95740592357018...|[2.7087402, 1.978...|[7.667755, 7.6496...|[1.2977295, -1.86...|[-17.667236, -2.5...|[-8.546143, -3.77...|[24.39566, 2.5354...|\n",
      "|   a| nexus4|       sit|[0.37532238229987...|[-0.6390267349882...|[10.0498966572220...|[0.07742737004486...|[0.11136905299118...|[0.21333114032688...|[0.80682373, 0.03...|[-0.06413269, 0.0...|[9.537186, -0.358...|[-0.44882202, -0....|[-1.0563049, -0.2...|[10.551422, 0.227...|\n",
      "|   a| nexus4|stairsdown|[0.23859804220388...|[-0.0569491624880...|[-0.3090079959115...|[0.56187666947193...|[0.53483850701085...|[0.72370008173883...|[2.7197266, 3.282...|[5.2955017, 10.89...|[-4.0476685, -0.2...|[-2.893219, -20.9...|[-2.4931946, -8.5...|[4.597931, 23.507...|\n",
      "|   a| nexus4|  stairsup|[-0.2843921228805...|[0.01040976485073...|[0.31078904540691...|[0.70340630723384...|[0.52448689663528...|[0.68256526380645...|[2.3117065, -0.90...|[1.9553375, 10.16...|[-3.1256104, 2.34...|[-2.9978943, -17....|[-1.9881439, -5.7...|[3.4974976, 16.34...|\n",
      "|   a| nexus4|     stand|[-5.9902858242847...|[0.50096092199923...|[7.89374953223957...|[0.18162259587043...|[0.32224100119992...|[0.23770754345566...|[-5.3450775, 0.63...|  [2.375, 0.3576355]|[6.8104706, -0.60...|[-7.0448303, -0.1...|[-0.98890686, -0....|[8.662598, 0.4487...|\n",
      "+----+-------+----------+--------------------+--------------------+--------------------+--------------------+--------------------+--------------------+--------------------+--------------------+--------------------+--------------------+--------------------+--------------------+\n",
      "only showing top 20 rows\n",
      "\n",
      "Time elapsed in Dataframes from RDDs: 363.3489992618561 seconds\n"
     ]
    },
    {
     "name": "stderr",
     "output_type": "stream",
     "text": [
      "                                                                                \r"
     ]
    }
   ],
   "source": [
    "# Checking execution time for the whole process with Dataframes from RDDs\n",
    "# Staring timer\n",
    "start_time = time.time()\n",
    "\n",
    "# Importing each dataset into an RDD and converting into Dataframe\n",
    "df_acc_phones = spark.createDataFrame(getRawRDD(phones_acc_path), schema=dataset_schema)\n",
    "df_gyr_phones = spark.createDataFrame(getRawRDD(phones_gyr_path), schema=dataset_schema)\n",
    "df_acc_watches = spark.createDataFrame(getRawRDD(watch_acc_path), schema=dataset_schema)\n",
    "df_gyr_watches = spark.createDataFrame(getRawRDD(watch_gyr_path), schema=dataset_schema)\n",
    "\n",
    "# Grouping Dataframes and calculating stats\n",
    "df_acc_phones = computeDFStats(df_acc_phones)\n",
    "df_gyr_phones = computeDFStats(df_gyr_phones)\n",
    "df_acc_watches = computeDFStats(df_acc_watches)\n",
    "df_gyr_watches = computeDFStats(df_gyr_watches)\n",
    "\n",
    "# Joining Dataframes by phones and watches\n",
    "df_phones = regroupJoinedDataframes(df_acc_phones.union(df_gyr_phones))\n",
    "df_watches = regroupJoinedDataframes(df_acc_watches.union(df_gyr_watches))\n",
    "\n",
    "# Joining phone and whatch Dataframes into a single one \n",
    "df_full_data = df_phones.union(df_watches).groupBy(['User', 'Model', 'gt']).agg(\n",
    "    flatten(collect_list('mean_x_list')).alias('mean_x_list'),\n",
    "    flatten(collect_list('mean_y_list')).alias('mean_y_list'),\n",
    "    flatten(collect_list('mean_z_list')).alias('mean_z_list'),\n",
    "    flatten(collect_list('stddev_x_list')).alias('stddev_x_list'),\n",
    "    flatten(collect_list('stddev_y_list')).alias('stddev_y_list'),\n",
    "    flatten(collect_list('stddev_z_list')).alias('stddev_z_list'),\n",
    "    flatten(collect_list('max_x_list')).alias('max_x_list'),\n",
    "    flatten(collect_list('max_y_list')).alias('max_y_list'),\n",
    "    flatten(collect_list('min_z_list')).alias('min_z_list'),\n",
    "    flatten(collect_list('min_x_list')).alias('min_x_list'),\n",
    "    flatten(collect_list('min_y_list')).alias('min_y_list'),\n",
    "    flatten(collect_list('max_z_list')).alias('max_z_list')\n",
    ")\n",
    "\n",
    "# Showing result Dataframe to force evaluation\n",
    "df_full_data.show()\n",
    "\n",
    "# Stop timer and calculate elapsed time\n",
    "df_rdd_execution_time = time.time() - start_time\n",
    "print(\"Time elapsed in Dataframes from RDDs:\", df_rdd_execution_time, \"seconds\")"
   ]
  },
  {
   "cell_type": "code",
   "execution_count": 11,
   "metadata": {},
   "outputs": [
    {
     "name": "stderr",
     "output_type": "stream",
     "text": [
      "[Stage 46:===========================================>              (3 + 1) / 4]\r"
     ]
    },
    {
     "name": "stdout",
     "output_type": "stream",
     "text": [
      "+----+-------+----------+--------------------+--------------------+--------------------+--------------------+--------------------+--------------------+--------------------+--------------------+--------------------+--------------------+--------------------+--------------------+\n",
      "|User|  Model|        gt|         mean_x_list|         mean_y_list|         mean_z_list|       stddev_x_list|       stddev_y_list|       stddev_z_list|          max_x_list|          max_y_list|          min_z_list|          min_x_list|          min_y_list|          max_z_list|\n",
      "+----+-------+----------+--------------------+--------------------+--------------------+--------------------+--------------------+--------------------+--------------------+--------------------+--------------------+--------------------+--------------------+--------------------+\n",
      "|   a|   gear|      bike|[-7.3919511411324...|[-0.8663799732158...|[6.09251652058661...|[1.41698038260643...|[1.41059091659425...|[1.09386294202730...|[0.12030864, 2.76...|[7.49445, 1.8178738]|[-2.9239187, -1.4...|[-19.6133, -3.729...|[-10.5841675, -2....|[13.58051, 0.9984...|\n",
      "|   a|   gear|      null|[-7.3154586725546...|[-0.9789381958111...|[-1.5837490355914...|[3.43872420571079...|[5.56055033087440...|[3.77834969285720...|[3.426701, 4.795554]|[11.820772, 3.748...|[-17.658434, -4.7...|[-19.6133, -5.811...|[-18.743008, -3.4...|[16.377537, 5.25202]|\n",
      "|   a|   gear|       sit|[-7.5956151304648...|[-3.1269702831970...|[2.23662102487922...|[0.56015122923851...|[4.76215810605455...|[0.86988566173815...|[6.7983356, 1.457...|[6.420052, 1.9001...|[-3.6709096, -2.3...|[-11.073183, -1.6...|[-9.745598, -2.05...|[7.9529395, 1.319...|\n",
      "|   a|   gear|stairsdown|[-9.9478021419127...|[-2.8096421499041...|[-2.5004761899731...|[4.14672094577699...|[2.48994709712208...|[2.31000224103564...|[-0.61171854, 4.7...|[9.741408, 4.0703...|[-10.839149, -5.8...|[-19.6133, -3.830...|[-13.747506, -3.9...|[2.8909986, 6.375...|\n",
      "|   a|   gear|  stairsup|[-10.577938942379...|[-2.4308538879524...|[-2.4599819472571...|[3.51365889632782...|[2.36394732057785...|[1.80381853209862...|[-3.1711202, 3.83...|[10.337564, 3.418...|[-9.342773, -4.43...|[-19.6133, -4.453...|[-11.112088, -3.6...|[3.6577415, 5.178...|\n",
      "|   a|   gear|     stand|[-8.1401074227163...|[-0.8463075172237...|[0.37037696742269...|[2.27249263788718...|[3.96356817564508...|[3.08129296562914...|[-0.5650316, 1.18...|[11.52449, 0.9717...|[-8.895657, -1.23...|[-12.600683, -2.0...|[-11.08276, -0.80...|[9.004593, 1.1475...|\n",
      "|   a|   gear|      walk|[-8.2094352560823...|[-0.6317477730359...|[-2.5582866561941...|[3.9785584813443,...|[5.75716358152198...|[2.50957044711629...|[5.0571527, 5.064...|[19.612701, 6.259...|[-19.6133, -8.714...|[-19.6133, -8.680...|[-15.020623, -6.1...|[14.097658, 5.110...|\n",
      "|   a|lgwatch|      bike|[-7.4720036823494...|[-1.1253988813632...|[5.97928259047825...|[1.92598971807905...|[2.38115814729517...|[1.25758270605911...|[7.906479, 3.2115...|[19.325012, 1.276...|[-19.072342, -4.3...|[-19.669525, -3.6...|[-11.391144, -1.0...|[19.927063, 3.720...|\n",
      "|   a|lgwatch|      null|[-8.0220640315525...|[-4.9546423621808...|[1.00944453984650...|[2.76291659828031...|[2.77622450777004...|[2.13756793192149...|[7.4042206, 7.540...|[19.296005, 3.532...|[-19.274078, -5.5...|[-19.669525, -10....|[-19.7034, -3.631...|[19.725327, 5.473...|\n",
      "|   a|lgwatch|       sit|[-8.0155764880313...|[-5.3272475912473...|[2.41398654806449...|[0.33091091962714...|[1.27007564098703...|[0.36135309303897...|[-2.5766754, 1.54...|[4.1126556, 1.548...|[-0.55781555, -1....|[-12.119583, -2.8...|[-9.63443, -1.574...|[5.809677, 1.2063...|\n",
      "|   a|lgwatch|stairsdown|[-9.7056835467829...|[-3.2624266853311...|[0.30267008616172...|[4.20252153750859...|[1.98509624183231...|[1.80591442905735...|[4.9617004, 6.584...|[13.100937, 3.904...|[-7.96315, -5.304...|[-19.669525, -6.5...|[-14.076202, -3.6...|[11.000671, 6.022...|\n",
      "|   a|lgwatch|  stairsup|[-10.198670744895...|[-2.7880586861916...|[0.54332629526438...|[3.48807237483852...|[1.77410879292769...|[1.37801341066272...|[9.020233, 4.883194]|[8.942429, 1.9378...|[-5.8041534, -4.4...|[-19.669525, -8.1...|[-10.286652, -3.0...|[10.810837, 5.442...|\n",
      "|   a|lgwatch|     stand|[-8.8958957851133...|[-0.8900758851708...|[1.22886694301350...|[1.34620316974226...|[3.57786017574693...|[1.54798762913581...|[6.4113464, 4.914...|[17.218979, 6.005...|[-8.50885, -3.936...|[-15.6475525, -4....|[-10.507584, -3.0...|[12.440796, 2.476...|\n",
      "|   a|lgwatch|      walk|[-7.6235041181980...|[-3.5479060393643...|[-0.6131441028330...|[3.81487843087590...|[5.09001963697192...|[2.18696593172126...|[13.869308, 5.675...|[13.960251, 4.739...|[-9.838882, -5.23...|[-19.669525, -4.3...|[-19.7034, -2.972...|[19.465866, 5.070...|\n",
      "|   a| nexus4|      bike|[0.08360855915810...|[-0.0245181431967...|[-0.1626678366684...|[0.20911194457512...|[0.29129900065006...|[0.31227915263869...|[0.8003235, 0.510...|[1.0015106, 5.074...|[-1.3098145, 4.91...|[-0.798645, -9.72...|[-1.2573853, -2.6...|[1.6680908, 15.51...|\n",
      "|   a| nexus4|      null|[-3.8477680780956...|[0.00206016519643...|[8.53550993245735...|[3.43274550504997...|[1.26045867580383...|[1.95740592357016...|[2.7087402, 1.978...|[7.667755, 7.6496...|[1.2977295, -1.86...|[-17.667236, -2.5...|[-8.546143, -3.77...|[24.39566, 2.5354...|\n",
      "|   a| nexus4|       sit|[0.37532238229987...|[-0.6390267349882...|[10.0498966572220...|[0.07742737004486...|[0.11136905299118...|[0.21333114032682...|[0.80682373, 0.03...|[-0.06413269, 0.0...|[9.537186, -0.358...|[-0.44882202, -0....|[-1.0563049, -0.2...|[10.551422, 0.227...|\n",
      "|   a| nexus4|stairsdown|[0.23859804220388...|[-0.0569491624880...|[-0.3090079959115...|[0.56187666947193...|[0.53483850701084...|[0.72370008173883...|[2.7197266, 3.282...|[5.2955017, 10.89...|[-4.0476685, -0.2...|[-2.893219, -20.9...|[-2.4931946, -8.5...|[4.597931, 23.507...|\n",
      "|   a| nexus4|  stairsup|[-0.2843921228805...|[0.01040976485073...|[0.31078904540691...|[0.70340630723384...|[0.52448689663528...|[0.68256526380645...|[2.3117065, -0.90...|[1.9553375, 10.16...|[-3.1256104, 2.34...|[-2.9978943, -17....|[-1.9881439, -5.7...|[3.4974976, 16.34...|\n",
      "|   a| nexus4|     stand|[-5.9902858242847...|[0.50096092199923...|[7.89374953223957...|[0.18162259587043...|[0.32224100119993...|[0.23770754345563...|[-5.3450775, 0.63...|  [2.375, 0.3576355]|[6.8104706, -0.60...|[-7.0448303, -0.1...|[-0.98890686, -0....|[8.662598, 0.4487...|\n",
      "+----+-------+----------+--------------------+--------------------+--------------------+--------------------+--------------------+--------------------+--------------------+--------------------+--------------------+--------------------+--------------------+--------------------+\n",
      "only showing top 20 rows\n",
      "\n",
      "Time elapsed in Dataframes from parquet files: 17.478894233703613 seconds\n"
     ]
    },
    {
     "name": "stderr",
     "output_type": "stream",
     "text": [
      "                                                                                \r"
     ]
    }
   ],
   "source": [
    "# Checking execution time for the whole process with Dataframes from parquet file\n",
    "# Staring timer\n",
    "start_time = time.time()\n",
    "\n",
    "# Importing each dataset into a Dataframe from a parquet file\n",
    "df_acc_phones = spark.read.parquet(os.path.splitext(phones_acc_path)[0] + \".parquet\")\n",
    "df_gyr_phones = spark.read.parquet(os.path.splitext(phones_gyr_path)[0] + \".parquet\")\n",
    "df_acc_watches = spark.read.parquet(os.path.splitext(watch_acc_path)[0] + \".parquet\")\n",
    "df_gyr_watches = spark.read.parquet(os.path.splitext(watch_gyr_path)[0] + \".parquet\")\n",
    "\n",
    "# Grouping Dataframes and calculating stats\n",
    "df_acc_phones = computeDFStats(df_acc_phones)\n",
    "df_gyr_phones = computeDFStats(df_gyr_phones)\n",
    "df_acc_watches = computeDFStats(df_acc_watches)\n",
    "df_gyr_watches = computeDFStats(df_gyr_watches)\n",
    "\n",
    "# Joining Dataframes by phones and watches\n",
    "df_phones = regroupJoinedDataframes(df_acc_phones.union(df_gyr_phones))\n",
    "df_watches = regroupJoinedDataframes(df_acc_watches.union(df_gyr_watches))\n",
    "\n",
    "# Joining phone and whatch Dataframes into a single one \n",
    "df_full_data = df_phones.union(df_watches).groupBy(['User', 'Model', 'gt']).agg(\n",
    "    flatten(collect_list('mean_x_list')).alias('mean_x_list'),\n",
    "    flatten(collect_list('mean_y_list')).alias('mean_y_list'),\n",
    "    flatten(collect_list('mean_z_list')).alias('mean_z_list'),\n",
    "    flatten(collect_list('stddev_x_list')).alias('stddev_x_list'),\n",
    "    flatten(collect_list('stddev_y_list')).alias('stddev_y_list'),\n",
    "    flatten(collect_list('stddev_z_list')).alias('stddev_z_list'),\n",
    "    flatten(collect_list('max_x_list')).alias('max_x_list'),\n",
    "    flatten(collect_list('max_y_list')).alias('max_y_list'),\n",
    "    flatten(collect_list('min_z_list')).alias('min_z_list'),\n",
    "    flatten(collect_list('min_x_list')).alias('min_x_list'),\n",
    "    flatten(collect_list('min_y_list')).alias('min_y_list'),\n",
    "    flatten(collect_list('max_z_list')).alias('max_z_list')\n",
    ")\n",
    "\n",
    "# Showing result Dataframe to force evaluation\n",
    "df_full_data.show()\n",
    "\n",
    "# Stop timer and calculate elapsed time\n",
    "df_parquet_execution_time = time.time() - start_time\n",
    "print(\"Time elapsed in Dataframes from parquet files:\", df_parquet_execution_time, \"seconds\")"
   ]
  },
  {
   "cell_type": "code",
   "execution_count": 12,
   "metadata": {},
   "outputs": [
    {
     "name": "stderr",
     "output_type": "stream",
     "text": [
      "[Stage 71:===========================================>              (3 + 1) / 4]\r"
     ]
    },
    {
     "name": "stdout",
     "output_type": "stream",
     "text": [
      "+----+-------+----------+--------------------+--------------------+--------------------+--------------------+--------------------+--------------------+--------------------+--------------------+--------------------+--------------------+--------------------+--------------------+\n",
      "|User|  Model|        gt|         mean_x_list|         mean_y_list|         mean_z_list|       stddev_x_list|       stddev_y_list|       stddev_z_list|          max_x_list|          max_y_list|          min_z_list|          min_x_list|          min_y_list|          max_z_list|\n",
      "+----+-------+----------+--------------------+--------------------+--------------------+--------------------+--------------------+--------------------+--------------------+--------------------+--------------------+--------------------+--------------------+--------------------+\n",
      "|   a|   gear|      bike|[-7.3919511411324...|[-0.8663799732158...|[6.09251652058661...|[1.41698038260643...|[1.41059091659425...|[1.09386294202730...|[0.12030864, 2.76...|[7.49445, 1.8178738]|[-2.9239187, -1.4...|[-19.6133, -3.729...|[-10.5841675, -2....|[13.58051, 0.9984...|\n",
      "|   a|   gear|      null|[-7.3154586725546...|[-0.9789381958111...|[-1.5837490355914...|[3.43872420571079...|[5.56055033087440...|[3.77834969285720...|[3.426701, 4.795554]|[11.820772, 3.748...|[-17.658434, -4.7...|[-19.6133, -5.811...|[-18.743008, -3.4...|[16.377537, 5.25202]|\n",
      "|   a|   gear|       sit|[-7.5956151304648...|[-3.1269702831970...|[2.23662102487922...|[0.56015122923851...|[4.76215810605455...|[0.86988566173815...|[6.7983356, 1.457...|[6.420052, 1.9001...|[-3.6709096, -2.3...|[-11.073183, -1.6...|[-9.745598, -2.05...|[7.9529395, 1.319...|\n",
      "|   a|   gear|stairsdown|[-9.9478021419127...|[-2.8096421499041...|[-2.5004761899731...|[4.14672094577699...|[2.48994709712208...|[2.31000224103564...|[-0.61171854, 4.7...|[9.741408, 4.0703...|[-10.839149, -5.8...|[-19.6133, -3.830...|[-13.747506, -3.9...|[2.8909986, 6.375...|\n",
      "|   a|   gear|  stairsup|[-10.577938942379...|[-2.4308538879524...|[-2.4599819472571...|[3.51365889632782...|[2.36394732057785...|[1.80381853209862...|[-3.1711202, 3.83...|[10.337564, 3.418...|[-9.342773, -4.43...|[-19.6133, -4.453...|[-11.112088, -3.6...|[3.6577415, 5.178...|\n",
      "|   a|   gear|     stand|[-8.1401074227163...|[-0.8463075172237...|[0.37037696742269...|[2.27249263788718...|[3.96356817564508...|[3.08129296562914...|[-0.5650316, 1.18...|[11.52449, 0.9717...|[-8.895657, -1.23...|[-12.600683, -2.0...|[-11.08276, -0.80...|[9.004593, 1.1475...|\n",
      "|   a|   gear|      walk|[-8.2094352560823...|[-0.6317477730359...|[-2.5582866561941...|[3.9785584813443,...|[5.75716358152198...|[2.50957044711629...|[5.0571527, 5.064...|[19.612701, 6.259...|[-19.6133, -8.714...|[-19.6133, -8.680...|[-15.020623, -6.1...|[14.097658, 5.110...|\n",
      "|   a|lgwatch|      bike|[-7.4720036823494...|[-1.1253988813632...|[5.97928259047825...|[1.92598971807905...|[2.38115814729517...|[1.25758270605911...|[7.906479, 3.2115...|[19.325012, 1.276...|[-19.072342, -4.3...|[-19.669525, -3.6...|[-11.391144, -1.0...|[19.927063, 3.720...|\n",
      "|   a|lgwatch|      null|[-8.0220640315525...|[-4.9546423621808...|[1.00944453984650...|[2.76291659828031...|[2.77622450777004...|[2.13756793192149...|[7.4042206, 7.540...|[19.296005, 3.532...|[-19.274078, -5.5...|[-19.669525, -10....|[-19.7034, -3.631...|[19.725327, 5.473...|\n",
      "|   a|lgwatch|       sit|[-8.0155764880313...|[-5.3272475912473...|[2.41398654806449...|[0.33091091962714...|[1.27007564098703...|[0.36135309303897...|[-2.5766754, 1.54...|[4.1126556, 1.548...|[-0.55781555, -1....|[-12.119583, -2.8...|[-9.63443, -1.574...|[5.809677, 1.2063...|\n",
      "|   a|lgwatch|stairsdown|[-9.7056835467829...|[-3.2624266853311...|[0.30267008616172...|[4.20252153750859...|[1.98509624183231...|[1.80591442905735...|[4.9617004, 6.584...|[13.100937, 3.904...|[-7.96315, -5.304...|[-19.669525, -6.5...|[-14.076202, -3.6...|[11.000671, 6.022...|\n",
      "|   a|lgwatch|  stairsup|[-10.198670744895...|[-2.7880586861916...|[0.54332629526438...|[3.48807237483852...|[1.77410879292769...|[1.37801341066272...|[9.020233, 4.883194]|[8.942429, 1.9378...|[-5.8041534, -4.4...|[-19.669525, -8.1...|[-10.286652, -3.0...|[10.810837, 5.442...|\n",
      "|   a|lgwatch|     stand|[-8.8958957851133...|[-0.8900758851708...|[1.22886694301350...|[1.34620316974226...|[3.57786017574693...|[1.54798762913581...|[6.4113464, 4.914...|[17.218979, 6.005...|[-8.50885, -3.936...|[-15.6475525, -4....|[-10.507584, -3.0...|[12.440796, 2.476...|\n",
      "|   a|lgwatch|      walk|[-7.6235041181980...|[-3.5479060393643...|[-0.6131441028330...|[3.81487843087590...|[5.09001963697192...|[2.18696593172126...|[13.869308, 5.675...|[13.960251, 4.739...|[-9.838882, -5.23...|[-19.669525, -4.3...|[-19.7034, -2.972...|[19.465866, 5.070...|\n",
      "|   a| nexus4|      bike|[0.08360855915810...|[-0.0245181431967...|[-0.1626678366684...|[0.20911194457512...|[0.29129900065006...|[0.31227915263869...|[0.8003235, 0.510...|[1.0015106, 5.074...|[-1.3098145, 4.91...|[-0.798645, -9.72...|[-1.2573853, -2.6...|[1.6680908, 15.51...|\n",
      "|   a| nexus4|      null|[-3.8477680780956...|[0.00206016519643...|[8.53550993245735...|[3.43274550504997...|[1.26045867580383...|[1.95740592357016...|[2.7087402, 1.978...|[7.667755, 7.6496...|[1.2977295, -1.86...|[-17.667236, -2.5...|[-8.546143, -3.77...|[24.39566, 2.5354...|\n",
      "|   a| nexus4|       sit|[0.37532238229987...|[-0.6390267349882...|[10.0498966572220...|[0.07742737004486...|[0.11136905299118...|[0.21333114032682...|[0.80682373, 0.03...|[-0.06413269, 0.0...|[9.537186, -0.358...|[-0.44882202, -0....|[-1.0563049, -0.2...|[10.551422, 0.227...|\n",
      "|   a| nexus4|stairsdown|[0.23859804220388...|[-0.0569491624880...|[-0.3090079959115...|[0.56187666947193...|[0.53483850701084...|[0.72370008173883...|[2.7197266, 3.282...|[5.2955017, 10.89...|[-4.0476685, -0.2...|[-2.893219, -20.9...|[-2.4931946, -8.5...|[4.597931, 23.507...|\n",
      "|   a| nexus4|  stairsup|[-0.2843921228805...|[0.01040976485073...|[0.31078904540691...|[0.70340630723384...|[0.52448689663528...|[0.68256526380645...|[2.3117065, -0.90...|[1.9553375, 10.16...|[-3.1256104, 2.34...|[-2.9978943, -17....|[-1.9881439, -5.7...|[3.4974976, 16.34...|\n",
      "|   a| nexus4|     stand|[-5.9902858242847...|[0.50096092199923...|[7.89374953223957...|[0.18162259587043...|[0.32224100119993...|[0.23770754345563...|[-5.3450775, 0.63...|  [2.375, 0.3576355]|[6.8104706, -0.60...|[-7.0448303, -0.1...|[-0.98890686, -0....|[8.662598, 0.4487...|\n",
      "+----+-------+----------+--------------------+--------------------+--------------------+--------------------+--------------------+--------------------+--------------------+--------------------+--------------------+--------------------+--------------------+--------------------+\n",
      "only showing top 20 rows\n",
      "\n",
      "Time elapsed in Dataframes from CSV files: 82.57520413398743 seconds\n"
     ]
    },
    {
     "name": "stderr",
     "output_type": "stream",
     "text": [
      "                                                                                \r"
     ]
    }
   ],
   "source": [
    "# Checking execution time for the whole process with Dataframes from CSV file\n",
    "# Staring timer\n",
    "start_time = time.time()\n",
    "\n",
    "# Importing each dataset into a Dataframe from a CSV file\n",
    "df_acc_phones = spark.read.format(\"csv\").schema(dataset_schema).load(phones_acc_path)\n",
    "df_gyr_phones = spark.read.format(\"csv\").schema(dataset_schema).load(phones_gyr_path)\n",
    "df_acc_watches = spark.read.format(\"csv\").schema(dataset_schema).load(watch_acc_path)\n",
    "df_gyr_watches = spark.read.format(\"csv\").schema(dataset_schema).load(watch_gyr_path)\n",
    "\n",
    "# Grouping Dataframes and calculating stats\n",
    "df_acc_phones = computeDFStats(df_acc_phones)\n",
    "df_gyr_phones = computeDFStats(df_gyr_phones)\n",
    "df_acc_watches = computeDFStats(df_acc_watches)\n",
    "df_gyr_watches = computeDFStats(df_gyr_watches)\n",
    "\n",
    "# Joining Dataframes by phones and watches\n",
    "df_phones = regroupJoinedDataframes(df_acc_phones.union(df_gyr_phones))\n",
    "df_watches = regroupJoinedDataframes(df_acc_watches.union(df_gyr_watches))\n",
    "\n",
    "# Joining phone and whatch Dataframes into a single one \n",
    "df_full_data = df_phones.union(df_watches).groupBy(['User', 'Model', 'gt']).agg(\n",
    "    flatten(collect_list('mean_x_list')).alias('mean_x_list'),\n",
    "    flatten(collect_list('mean_y_list')).alias('mean_y_list'),\n",
    "    flatten(collect_list('mean_z_list')).alias('mean_z_list'),\n",
    "    flatten(collect_list('stddev_x_list')).alias('stddev_x_list'),\n",
    "    flatten(collect_list('stddev_y_list')).alias('stddev_y_list'),\n",
    "    flatten(collect_list('stddev_z_list')).alias('stddev_z_list'),\n",
    "    flatten(collect_list('max_x_list')).alias('max_x_list'),\n",
    "    flatten(collect_list('max_y_list')).alias('max_y_list'),\n",
    "    flatten(collect_list('min_z_list')).alias('min_z_list'),\n",
    "    flatten(collect_list('min_x_list')).alias('min_x_list'),\n",
    "    flatten(collect_list('min_y_list')).alias('min_y_list'),\n",
    "    flatten(collect_list('max_z_list')).alias('max_z_list')\n",
    ")\n",
    "\n",
    "# Showing result Dataframe to force evaluation\n",
    "df_full_data.show()\n",
    "\n",
    "# Stop timer and calculate elapsed time\n",
    "df_csv_execution_time = time.time() - start_time\n",
    "print(\"Time elapsed in Dataframes from CSV files:\", df_csv_execution_time, \"seconds\")"
   ]
  }
 ],
 "metadata": {
  "kernelspec": {
   "display_name": "SBC",
   "language": "python",
   "name": "python3"
  },
  "language_info": {
   "codemirror_mode": {
    "name": "ipython",
    "version": 3
   },
   "file_extension": ".py",
   "mimetype": "text/x-python",
   "name": "python",
   "nbconvert_exporter": "python",
   "pygments_lexer": "ipython3",
   "version": "3.10.6"
  },
  "orig_nbformat": 4,
  "vscode": {
   "interpreter": {
    "hash": "2f20ca80cb23f5a777615dc6646e87ecf8f6c5821447011cde87d75de7e86242"
   }
  }
 },
 "nbformat": 4,
 "nbformat_minor": 2
}
