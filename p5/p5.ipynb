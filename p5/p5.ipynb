{
 "cells": [
  {
   "cell_type": "code",
   "execution_count": 1,
   "metadata": {},
   "outputs": [],
   "source": [
    "# Importing libraries\n",
    "import pyspark\n",
    "import numpy as np"
   ]
  },
  {
   "cell_type": "code",
   "execution_count": 2,
   "metadata": {},
   "outputs": [
    {
     "name": "stdout",
     "output_type": "stream",
     "text": [
      "22/12/21 21:35:44 WARN Utils: Your hostname, martin resolves to a loopback address: 127.0.1.1; using 192.168.0.24 instead (on interface wlp1s0)\n",
      "22/12/21 21:35:44 WARN Utils: Set SPARK_LOCAL_IP if you need to bind to another address\n"
     ]
    },
    {
     "name": "stderr",
     "output_type": "stream",
     "text": [
      "Setting default log level to \"WARN\".\n",
      "To adjust logging level use sc.setLogLevel(newLevel). For SparkR, use setLogLevel(newLevel).\n"
     ]
    },
    {
     "name": "stdout",
     "output_type": "stream",
     "text": [
      "22/12/21 21:35:56 WARN NativeCodeLoader: Unable to load native-hadoop library for your platform... using builtin-java classes where applicable\n"
     ]
    }
   ],
   "source": [
    "# Creating spark enviroment\n",
    "sc = pyspark.SparkContext()"
   ]
  },
  {
   "cell_type": "code",
   "execution_count": 3,
   "metadata": {},
   "outputs": [],
   "source": [
    "# Dataset common path\n",
    "common_path = \"./\"                      # Default dataset path (same path as notebook)\n",
    "common_path = \"../datasets/small_data/\" # Custom dataset path\n",
    "\n",
    "# Dataset names\n",
    "phones_acc_path = common_path + \"Phones_accelerometer.csv\"\n",
    "phones_gyr_path = common_path + \"Phones_gyroscope.csv\"\n",
    "watch_acc_path = common_path + \"Watch_accelerometer.csv\"\n",
    "watch_gry_path = common_path + \"Watch_gyroscope.csv\""
   ]
  },
  {
   "cell_type": "code",
   "execution_count": 4,
   "metadata": {},
   "outputs": [],
   "source": [
    "# This function parses the input string based RDD into tuples\n",
    "def parseRawRDD(rawRDD):\n",
    "    # Splitting row into an array with the separator, and adding User, Model, and action (gt) as key\n",
    "    return rawRDD.map(lambda line: line.split(\",\")).map(lambda line: ((line[6], line[7], line[9]), (float(line[3]), float(line[4]), float(line[5]))))"
   ]
  },
  {
   "cell_type": "code",
   "execution_count": 5,
   "metadata": {},
   "outputs": [
    {
     "name": "stderr",
     "output_type": "stream",
     "text": [
      "[Stage 0:>                                                          (0 + 1) / 1]\r"
     ]
    },
    {
     "name": "stdout",
     "output_type": "stream",
     "text": [
      "(('a', 'nexus4', 'stand'), (-5.958191, 0.6880646, 8.135345))\n"
     ]
    },
    {
     "name": "stderr",
     "output_type": "stream",
     "text": [
      "                                                                                \r"
     ]
    }
   ],
   "source": [
    "# Importing each dataset into an RDD\n",
    "rdd_acc_phones = parseRawRDD(sc.textFile(phones_acc_path))\n",
    "rdd_gyr_phones = parseRawRDD(sc.textFile(phones_gyr_path))\n",
    "rdd_acc_watches = parseRawRDD(sc.textFile(watch_acc_path))\n",
    "rdd_gyr_watches = parseRawRDD(sc.textFile(watch_gry_path))\n",
    "\n",
    "# Showing first line of one RDD as an example\n",
    "print(rdd_acc_phones.first())"
   ]
  },
  {
   "cell_type": "code",
   "execution_count": 6,
   "metadata": {},
   "outputs": [],
   "source": [
    "# This function returns the given RDD with elements grouped by key and values as a list\n",
    "def groupData(rdd):\n",
    "    return rdd.groupByKey().mapValues(list)"
   ]
  },
  {
   "cell_type": "code",
   "execution_count": 7,
   "metadata": {},
   "outputs": [],
   "source": [
    "# Defining funtion that will compute stats for each list of values\n",
    "def computeStats(values):\n",
    "    # Calculating values\n",
    "    mean = np.mean(values, axis=0)\n",
    "    std = np.std(values, axis=0)\n",
    "    max = np.max(values, axis=0)\n",
    "    min = np.min(values, axis=0)\n",
    "\n",
    "    return np.concatenate([mean, std, max, min]).ravel().tolist()"
   ]
  },
  {
   "cell_type": "code",
   "execution_count": 8,
   "metadata": {},
   "outputs": [],
   "source": [
    "# Defining function to group RDD by User, Model, and class (gt) and performing required aggregates\n",
    "def transformRDD(rdd):\n",
    "    # Grouping RDD by key\n",
    "    rdd = groupData(rdd)\n",
    "\n",
    "    # Calculating values\n",
    "    rdd = rdd.mapValues(computeStats)\n",
    "\n",
    "    # Returning RDD with the following shape for each line:\n",
    "    # (User, Model, gt), [mean_x, mean_y, mean_z, std_x, std_y, std_z, max_x, max_y, max_z, min_x, min_y, min_z]\n",
    "    return rdd"
   ]
  },
  {
   "cell_type": "code",
   "execution_count": 9,
   "metadata": {},
   "outputs": [
    {
     "name": "stderr",
     "output_type": "stream",
     "text": [
      "                                                                                \r"
     ]
    },
    {
     "name": "stdout",
     "output_type": "stream",
     "text": [
      "(('a', 'nexus4', 'stand'), [-6.02649995057012, 0.9334959509016011, 8.013646013119995, 0.18455174673530322, 0.24043415892742395, 0.17599985821420452, -5.5202026, 1.9472808999999998, 8.638794, -7.0448303, -0.84251404, 7.149872])\n"
     ]
    }
   ],
   "source": [
    "# Transforming each RDD given the required aggregate function\n",
    "rdd_acc_phones = transformRDD(rdd_acc_phones)\n",
    "rdd_gyr_phones = transformRDD(rdd_gyr_phones)\n",
    "rdd_acc_watches = transformRDD(rdd_acc_watches)\n",
    "rdd_gyr_watches = transformRDD(rdd_gyr_watches)\n",
    "\n",
    "# Showing first line of one RDD as an example\n",
    "print(rdd_acc_phones.first())"
   ]
  },
  {
   "cell_type": "code",
   "execution_count": 10,
   "metadata": {},
   "outputs": [
    {
     "name": "stdout",
     "output_type": "stream",
     "text": [
      "[(('a', 'nexus4', 'stand'), [[-6.02649995057012, 0.9334959509016011, 8.013646013119995, 0.18455174673530322, 0.24043415892742395, 0.17599985821420452, -5.5202026, 1.9472808999999998, 8.638794, -7.0448303, -0.84251404, 7.149872], [0.0015888519490950379, 0.001009460465647035, 0.00044218442934900517, 0.042774927054953664, 0.028613015987344143, 0.04594104405657258, 0.6321869000000001, 0.34971620000000003, 0.44873047, -0.16569519, -0.15550232, -0.6001586999999999]])]\n"
     ]
    },
    {
     "name": "stderr",
     "output_type": "stream",
     "text": [
      "                                                                                \r"
     ]
    }
   ],
   "source": [
    "# Joining RDDs by phones and watches\n",
    "rdd_phones = groupData(rdd_acc_phones.union(rdd_gyr_phones))\n",
    "rdd_watches = groupData(rdd_acc_watches.union(rdd_gyr_watches))\n",
    "\n",
    "# Showing first 5 lines of one joined RDD as an example\n",
    "print(rdd_phones.take(5))"
   ]
  },
  {
   "cell_type": "code",
   "execution_count": 11,
   "metadata": {},
   "outputs": [
    {
     "name": "stderr",
     "output_type": "stream",
     "text": [
      "[Stage 20:>                                                         (0 + 1) / 1]\r"
     ]
    },
    {
     "name": "stdout",
     "output_type": "stream",
     "text": [
      "[(('a', 'gear', 'stand'), [[[-9.28975320121918, -3.1371565242007433, -1.0662863009969377, 0.4137041474158963, 1.0628532344784534, 0.6173240991928324, -0.5650316, -0.5781997, 1.01574, -12.600683, -11.08276, -2.2625206], [0.022146662344973197, -0.03286732380555572, -0.07143672518383175, 0.07314944656109798, 0.05570243854351154, 0.05017749590092546, 0.81039995, 0.35446674, 1.1475562, -2.0383835, -0.55287224, -1.2319783]]]), (('a', 'gear', 'null'), [[[-9.260130103197667, -3.4726260017441857, -1.0407208369767433, 0.031091553472846954, 0.05145894400802322, 0.03143016039412707, -9.173983, -3.3207579, -0.9307459, -9.3583355, -3.5942953, -1.1420342], [0.022570096625655994, -0.036608760294460654, -0.07169493794752187, 0.0177998638098211, 0.011561341072093032, 0.008039675979049183, 0.0561927, -0.018109497, -0.055127434, -0.0314253, -0.08042747, -0.09347696]]]), (('a', 'nexus4', 'stand'), [[[-6.02649995057012, 0.9334959509016011, 8.013646013119995, 0.18455174673530322, 0.24043415892742395, 0.17599985821420452, -5.5202026, 1.9472808999999998, 8.638794, -7.0448303, -0.84251404, 7.149872], [0.0015888519490950379, 0.001009460465647035, 0.00044218442934900517, 0.042774927054953664, 0.028613015987344143, 0.04594104405657258, 0.6321869000000001, 0.34971620000000003, 0.44873047, -0.16569519, -0.15550232, -0.6001586999999999]]]), (('a', 'gear', 'sit'), [[[-7.60451970918391, -5.528341078676799, 2.6383265126877076, 0.185552317851128, 0.27427094510456856, 0.3856803558537468, -6.6588736, -0.83258367, 3.555988, -10.8229885, -6.9168487, -3.6709096], [0.02270561507082863, -0.04142249651518432, -0.06997320145904558, 0.05703368820681684, 0.05626923635200809, 0.045237621178388435, 0.39867523, 0.39920786, 0.77604514, -0.700944, -0.79042625, -0.22849922]]])]\n"
     ]
    },
    {
     "name": "stderr",
     "output_type": "stream",
     "text": [
      "                                                                                \r"
     ]
    }
   ],
   "source": [
    "# Joining phone and whatch RDDs into a single one \n",
    "rdd_full_data = groupData(rdd_phones.union(rdd_watches))\n",
    "\n",
    "# Showing first 5 lines of result RDD\n",
    "print(rdd_full_data.take(5))"
   ]
  }
 ],
 "metadata": {
  "kernelspec": {
   "display_name": "SBC",
   "language": "python",
   "name": "python3"
  },
  "language_info": {
   "codemirror_mode": {
    "name": "ipython",
    "version": 3
   },
   "file_extension": ".py",
   "mimetype": "text/x-python",
   "name": "python",
   "nbconvert_exporter": "python",
   "pygments_lexer": "ipython3",
   "version": "3.10.6"
  },
  "orig_nbformat": 4,
  "vscode": {
   "interpreter": {
    "hash": "2f20ca80cb23f5a777615dc6646e87ecf8f6c5821447011cde87d75de7e86242"
   }
  }
 },
 "nbformat": 4,
 "nbformat_minor": 2
}
