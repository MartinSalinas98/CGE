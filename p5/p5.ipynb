{
 "cells": [
  {
   "cell_type": "code",
   "execution_count": 1,
   "metadata": {},
   "outputs": [],
   "source": [
    "# Importing libraries\n",
    "import pyspark\n",
    "import numpy as np"
   ]
  },
  {
   "cell_type": "code",
   "execution_count": 2,
   "metadata": {},
   "outputs": [
    {
     "name": "stdout",
     "output_type": "stream",
     "text": [
      "22/12/21 20:44:10 WARN Utils: Your hostname, martin resolves to a loopback address: 127.0.1.1; using 192.168.0.24 instead (on interface wlp1s0)\n",
      "22/12/21 20:44:10 WARN Utils: Set SPARK_LOCAL_IP if you need to bind to another address\n"
     ]
    },
    {
     "name": "stderr",
     "output_type": "stream",
     "text": [
      "Setting default log level to \"WARN\".\n",
      "To adjust logging level use sc.setLogLevel(newLevel). For SparkR, use setLogLevel(newLevel).\n"
     ]
    },
    {
     "name": "stdout",
     "output_type": "stream",
     "text": [
      "22/12/21 20:44:21 WARN NativeCodeLoader: Unable to load native-hadoop library for your platform... using builtin-java classes where applicable\n"
     ]
    }
   ],
   "source": [
    "# Creating spark enviroment\n",
    "sc = pyspark.SparkContext()"
   ]
  },
  {
   "cell_type": "code",
   "execution_count": 3,
   "metadata": {},
   "outputs": [],
   "source": [
    "# Dataset common path\n",
    "common_path = \"./\"                      # Default dataset path\n",
    "common_path = \"../datasets/small_data/\" # Custom dataset path\n",
    "\n",
    "# Dataset names\n",
    "phones_acc_path = common_path + \"Phones_accelerometer.csv\"\n",
    "phones_gyr_path = common_path + \"Phones_gyroscope.csv\"\n",
    "watch_acc_path = common_path + \"Watch_accelerometer.csv\"\n",
    "watch_gry_path = common_path + \"Watch_gyroscope.csv\""
   ]
  },
  {
   "cell_type": "code",
   "execution_count": 4,
   "metadata": {},
   "outputs": [],
   "source": [
    "# Importing each dataset into a RDD\n",
    "rdd_acc_phones = sc.textFile(phones_acc_path)\n",
    "rdd_gyr_phones = sc.textFile(phones_gyr_path)\n",
    "rdd_acc_watches = sc.textFile(watch_acc_path)\n",
    "rdd_gyr_watches = sc.textFile(watch_gry_path)"
   ]
  },
  {
   "cell_type": "code",
   "execution_count": 5,
   "metadata": {},
   "outputs": [],
   "source": [
    "# Defining funtion that will compute stats for each list of values\n",
    "def compute_stats(values):\n",
    "    # Calculating values\n",
    "    mean = np.mean(values, axis=0)\n",
    "    std = np.std(values, axis=0)\n",
    "    max = np.max(values, axis=0)\n",
    "    min = np.min(values, axis=0)\n",
    "\n",
    "    return np.concatenate([mean, std, max, min]).ravel().tolist()"
   ]
  },
  {
   "cell_type": "code",
   "execution_count": 6,
   "metadata": {},
   "outputs": [],
   "source": [
    "# Defining function to group RDD by User, Model, and class (gt) and performing required aggregates\n",
    "def transform_rdd(rdd):\n",
    "    # Splitting row into an array with the separator, and adding User, Model, and action (gt) as key\n",
    "    rdd = rdd.map(lambda line: line.split(\",\")).map(lambda line: ((line[6], line[7], line[9]), (float(line[3]), float(line[4]), float(line[5]))))\n",
    "\n",
    "    # Grouping RDD by just created key\n",
    "    rdd = rdd.groupByKey().mapValues(list)\n",
    "\n",
    "    # Calculating values\n",
    "    rdd = rdd.mapValues(lambda tuple: compute_stats(tuple))\n",
    "\n",
    "    return rdd"
   ]
  },
  {
   "cell_type": "code",
   "execution_count": 7,
   "metadata": {},
   "outputs": [],
   "source": [
    "rdd_acc_phones = transform_rdd(rdd_acc_phones)\n",
    "rdd_gyr_phones = transform_rdd(rdd_gyr_phones)\n",
    "rdd_acc_watches = transform_rdd(rdd_acc_watches)\n",
    "rdd_gyr_watches = transform_rdd(rdd_gyr_watches)"
   ]
  },
  {
   "cell_type": "code",
   "execution_count": 8,
   "metadata": {},
   "outputs": [
    {
     "name": "stderr",
     "output_type": "stream",
     "text": [
      "                                                                                \r"
     ]
    },
    {
     "name": "stdout",
     "output_type": "stream",
     "text": [
      "(('a', 'nexus4', 'stand'), [-6.02649995057012, 0.9334959509016011, 8.013646013119995, 0.18455174673530322, 0.24043415892742395, 0.17599985821420452, -5.5202026, 1.9472808999999998, 8.638794, -7.0448303, -0.84251404, 7.149872])\n"
     ]
    }
   ],
   "source": [
    "print(rdd_acc_phones.first())"
   ]
  }
 ],
 "metadata": {
  "kernelspec": {
   "display_name": "SBC",
   "language": "python",
   "name": "python3"
  },
  "language_info": {
   "codemirror_mode": {
    "name": "ipython",
    "version": 3
   },
   "file_extension": ".py",
   "mimetype": "text/x-python",
   "name": "python",
   "nbconvert_exporter": "python",
   "pygments_lexer": "ipython3",
   "version": "3.10.6"
  },
  "orig_nbformat": 4,
  "vscode": {
   "interpreter": {
    "hash": "2f20ca80cb23f5a777615dc6646e87ecf8f6c5821447011cde87d75de7e86242"
   }
  }
 },
 "nbformat": 4,
 "nbformat_minor": 2
}
